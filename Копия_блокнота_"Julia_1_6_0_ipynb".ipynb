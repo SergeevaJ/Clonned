{
  "nbformat": 4,
  "nbformat_minor": 0,
  "metadata": {
    "colab": {
      "name": "Копия блокнота \"Julia_1.6.0.ipynb\"",
      "provenance": [],
      "collapsed_sections": [],
      "include_colab_link": true
    },
    "kernelspec": {
      "display_name": "Julia 1.6",
      "language": "julia",
      "name": "julia-1.6"
    },
    "language_info": {
      "file_extension": ".jl",
      "mimetype": "application/julia",
      "name": "julia",
      "version": "1.6.0"
    }
  },
  "cells": [
    {
      "cell_type": "markdown",
      "metadata": {
        "id": "view-in-github",
        "colab_type": "text"
      },
      "source": [
        "<a href=\"https://colab.research.google.com/github/SergeevaJ/Clonned/blob/master/%D0%9A%D0%BE%D0%BF%D0%B8%D1%8F_%D0%B1%D0%BB%D0%BE%D0%BA%D0%BD%D0%BE%D1%82%D0%B0_%22Julia_1_6_0_ipynb%22.ipynb\" target=\"_parent\"><img src=\"https://colab.research.google.com/assets/colab-badge.svg\" alt=\"Open In Colab\"/></a>"
      ]
    },
    {
      "cell_type": "code",
      "metadata": {
        "id": "PMGwZ7aFJL8Y"
      },
      "source": [
        "# Installation cell\n",
        "%%capture\n",
        "%%shell\n",
        "if ! command -v julia 3>&1 > /dev/null\n",
        "then\n",
        "    wget -q 'https://julialang-s3.julialang.org/bin/linux/x64/1.6/julia-1.6.1-linux-x86_64.tar.gz' \\\n",
        "        -O /tmp/julia.tar.gz\n",
        "    tar -x -f /tmp/julia.tar.gz -C /usr/local --strip-components 1\n",
        "    rm /tmp/julia.tar.gz\n",
        "fi\n",
        "julia -e 'using Pkg; pkg\"add IJulia; precompile;\"'\n",
        "echo 'Done'"
      ],
      "execution_count": null,
      "outputs": []
    },
    {
      "cell_type": "markdown",
      "metadata": {
        "id": "XdMpcQduyaQc"
      },
      "source": [
        "After you run the first cell (the the cell directly above this text), go to Colab's menu bar and select **Edit** and select **Notebook settings** from the drop down. Select *Julia 1.6* in Runtime type. You can also select your prefered harwdware acceleration (defaults to GPU). \n",
        "\n",
        "<br/>You should see something like this:\n",
        "\n",
        "> ![Colab Img](https://raw.githubusercontent.com/Dsantra92/Julia-on-Colab/master/misc/julia_menu.png)\n",
        "\n",
        "<br/>Click on SAVE\n",
        "<br/>**We are ready to get going**\n",
        "\n",
        "\n",
        "\n"
      ]
    },
    {
      "cell_type": "code",
      "metadata": {
        "colab": {
          "base_uri": "https://localhost:8080/"
        },
        "id": "iIxu4TjlJnBG",
        "outputId": "c0410842-dfb4-4ccb-f471-f04af45ceca0"
      },
      "source": [
        "VERSION"
      ],
      "execution_count": null,
      "outputs": [
        {
          "output_type": "execute_result",
          "data": {
            "text/plain": [
              "v\"1.6.1\""
            ]
          },
          "metadata": {},
          "execution_count": 1
        }
      ]
    },
    {
      "cell_type": "code",
      "metadata": {
        "id": "W0sKdtewGcIc"
      },
      "source": [
        "using Pkg\n",
        "Pkg.add(\"DifferentialEquations\")"
      ],
      "execution_count": null,
      "outputs": []
    },
    {
      "cell_type": "markdown",
      "metadata": {
        "id": "DLml3TvFKESv"
      },
      "source": [
        ""
      ]
    },
    {
      "cell_type": "code",
      "metadata": {
        "id": "uYpONRzDs1f7"
      },
      "source": [
        "using Pkg\n",
        "Pkg.add(\"Plots\")"
      ],
      "execution_count": null,
      "outputs": []
    },
    {
      "cell_type": "code",
      "metadata": {
        "id": "ZAc1MDZu7XsM"
      },
      "source": [
        "using Pkg\n",
        "Pkg.add(\"Distributions\")"
      ],
      "execution_count": null,
      "outputs": []
    },
    {
      "cell_type": "code",
      "metadata": {
        "id": "asn2lM7R7Xe-"
      },
      "source": [
        "using Pkg\n",
        "Pkg.add(\"Random\")"
      ],
      "execution_count": null,
      "outputs": []
    },
    {
      "cell_type": "code",
      "metadata": {
        "colab": {
          "base_uri": "https://localhost:8080/"
        },
        "id": "tH18896U7XM1",
        "outputId": "a75c2739-4378-433a-ebfa-64c84c30be27"
      },
      "source": [
        "using DifferentialEquations\n",
        "using Random, Distributions\n",
        "using Plots\n",
        "\n",
        "function f_motion(f) \n",
        "    fx, fy, thetta = f\n",
        "    \n",
        "    mu = 3 #наноНьютоны\n",
        "    nu = 1 #коэффициент по времени взаимодействия клеток\n",
        "    sigma_K = 0.3 #наноНьютоны\n",
        "    sigma_alfa = pi/3\n",
        "    K_max = mu + 3*sigma_K\n",
        "    betta = 2.0\n",
        "    \n",
        "    K_i = abs(rand(Normal(mu, sigma_K^2)))\n",
        "    alfa = rand(Normal(0, sigma_alfa^2))\n",
        "    \n",
        "    thetta_i = alfa * (1 - (K_i / K_max)^betta)\n",
        "    mod_f_new = K_i * nu\n",
        "    \n",
        "    fx_new = mod_f_new * cos(thetta_i + thetta)\n",
        "    fy_new = mod_f_new * sin(thetta_i + thetta)\n",
        "    \n",
        "    thetta_new = thetta_i + thetta\n",
        "    \n",
        "    f_new = [fx_new, fy_new, thetta_new]\n",
        "    \n",
        "end \n",
        "\n",
        "function f_motion_mat(matr_F) \n",
        "    \n",
        "    mu = 3 #наноНьютоны\n",
        "    nu = 1 #коэффициент по времени взаимодействия клеток\n",
        "    sigma_K = 0.3 #наноНьютоны\n",
        "    sigma_alfa = pi/3\n",
        "    K_max = mu + 3*sigma_K\n",
        "    betta = 2.0\n",
        "    \n",
        "    for i in (1:N)\n",
        "        #fx, fy, thetta = f\n",
        "        \n",
        "        K_i = abs(rand(Normal(mu, sigma_K^2)))\n",
        "        alfa = rand(Normal(0, sigma_alfa^2))\n",
        "    \n",
        "        thetta_i = alfa * (1 - (K_i / K_max)^betta)\n",
        "        mod_f_new = K_i * nu\n",
        "    \n",
        "        matr_F[i] = mod_f_new * cos(thetta_i + matr_F[i+2*N])\n",
        "        matr_F[i+N] = mod_f_new * sin(thetta_i + matr_F[i+2*N])\n",
        "    \n",
        "        matr_F[i+2*N] = thetta_i + matr_F[i+2*N]\n",
        "    end\n",
        "    matr_F\n",
        "end \n",
        "\n",
        "N = 77 #количество клеток\n",
        "\n",
        "Lx = 100.0\n",
        "Ly = 100.0\n",
        "L = Lx = Ly\n",
        "\n",
        "x_max = Lx #размеры сетки\n",
        "y_max = Ly\n",
        "\n",
        "# в расчетную область помещается ≈ 4000 клеток\n",
        "N_CD4TCs = 75 # треть из них - CD4+ T-клетки, остальные 2800 - CD8+ T-клетки\n",
        "N_CTLs = 2     # 1% от 2800 (все 2800 CD8+ T-клетки не рассматриваем, а только ЦТЛ с частотой 1%)\n",
        "N_TCells = N_CD4TCs + N_CTLs # всего в области будет 1228 Т-клеток (и одна дендритная клетка)\n",
        "\n",
        "\n",
        "\n",
        "#задаем вектор системы, в котором каждый элемент - вектор одной клетки с параметрами [x, y, andle_speed, vx, vy]\n",
        "vektor_sistem_xy = [[rand(Uniform(-x_max+5, x_max-5)), rand(Uniform(-y_max+5, y_max-5)), rand(Uniform(0, 2*pi))] for i in (1:N)]\n",
        "for i in (1:N)\n",
        "    push!(vektor_sistem_xy[i], rand(Normal(8, 2)) * cos(vektor_sistem_xy[i][3]))\n",
        "    push!(vektor_sistem_xy[i], vektor_sistem_xy[i][4] * tan(vektor_sistem_xy[i][3]))\n",
        "end\n",
        "#vektor_sistem_xy\n",
        "\n",
        "# Time settings\n",
        "Δt = 0.001\n",
        "t_max = 100\n",
        "t = Int(div(t_max, Δt))\n",
        "\n",
        "# Masses of bodies\n",
        "m = [0.009 for i in (1:N)]\n",
        "M = sum(m)\n",
        "n = length(m)\n",
        "\n",
        "# Constant\n",
        "G = 9.0\n",
        "mu = 1.0\n",
        "\n",
        "# Initial values for position and velocity\n",
        "Rx=[vektor_sistem_xy[i][1] for i in (1:N)]\n",
        "Ry=[vektor_sistem_xy[i][2] for i in (1:N)]\n",
        "R = [Rx Ry] \n",
        "\n",
        "Vx=[vektor_sistem_xy[i][4] for i in (1:N)]\n",
        "Vy=[vektor_sistem_xy[i][5] for i in (1:N)]\n",
        "V = [Vx Vy] \n",
        "\n",
        "f1 = [0, 0, 0]\n",
        "f = [f_motion(f1) for i in (1:N)]\n",
        "Fx = [f[i][1] for i in (1:N)]\n",
        "Fy = [f[i][2] for i in (1:N)]\n",
        "F_angle = [f[i][3] for i in (1:N)]\n",
        "F = [Fx Fy F_angle]\n",
        "p = [m, mu, F]\n",
        "\n",
        "#function motion(ddu, du, u, p, t) \n",
        " #   m, mu, F = p\n",
        "  #  for i=1:size(ddu)[1]\n",
        "   #ddu[i, :] .= F[i, 1:2]./m[i] .- (mu./m[i]).*du[i, :]\n",
        "    #end\n",
        "#end     "
      ],
      "execution_count": null,
      "outputs": [
        {
          "output_type": "execute_result",
          "data": {
            "text/plain": [
              "3-element Vector{Any}:\n",
              "  [0.009, 0.009, 0.009, 0.009, 0.009, 0.009, 0.009, 0.009, 0.009, 0.009  …  0.009, 0.009, 0.009, 0.009, 0.009, 0.009, 0.009, 0.009, 0.009, 0.009]\n",
              " 1.0\n",
              "  [1.7676357160742813 2.382210069966242 0.9324252054499276; 2.662613733885158 1.5554038859291222 0.5286942194656649; … ; 2.585151859961726 1.3832210481744307 0.4913035682551116; 2.9095972252126163 -0.6624152060535023 -0.22385014845191156]"
            ]
          },
          "metadata": {},
          "execution_count": 10
        }
      ]
    },
    {
      "cell_type": "code",
      "metadata": {
        "id": "gejZJVdsGGpo"
      },
      "source": [
        ""
      ],
      "execution_count": null,
      "outputs": []
    },
    {
      "cell_type": "code",
      "metadata": {
        "colab": {
          "base_uri": "https://localhost:8080/"
        },
        "id": "b9CZemauGGfX",
        "outputId": "ac3ef11c-d1bb-4bb6-a76f-7c925d678823"
      },
      "source": [
        "function motion(du, u, p, t) \n",
        "    mu, F = p\n",
        "    for i=1:N\n",
        "        du[i, :] .= F[i, 1:2]./mu\n",
        "    end\n",
        "end "
      ],
      "execution_count": null,
      "outputs": [
        {
          "output_type": "execute_result",
          "data": {
            "text/plain": [
              "motion (generic function with 1 method)"
            ]
          },
          "metadata": {},
          "execution_count": 15
        }
      ]
    },
    {
      "cell_type": "code",
      "metadata": {
        "colab": {
          "base_uri": "https://localhost:8080/"
        },
        "id": "CDJBZQEAFgK6",
        "outputId": "edd4d9ec-412b-4de3-a38d-c09a3ed029d6"
      },
      "source": [
        "p=[mu, F]\n",
        "tspan=(0.0, 20.0) \n",
        "prob =ODEProblem(motion, R, tspan, p)\n",
        "integrator = init(prob, Tsit5(), dt=Δt)"
      ],
      "execution_count": null,
      "outputs": [
        {
          "output_type": "execute_result",
          "data": {
            "text/plain": [
              "t: 0.0\n",
              "u: 77×2 Matrix{Float64}:\n",
              " -29.3197    92.1118\n",
              " -71.2167   -66.522\n",
              " -81.7864    66.1319\n",
              "  64.0315    75.7594\n",
              "  66.5203   -83.393\n",
              "  40.3359    57.9053\n",
              " -50.5193    41.9205\n",
              "  -2.75986  -36.5643\n",
              "  -5.50566   52.5663\n",
              " -73.3668    88.9634\n",
              " -39.8349   -22.6438\n",
              "  -6.47189   88.5882\n",
              "  43.6459    -8.05718\n",
              "   ⋮        \n",
              "  47.6622   -19.1385\n",
              "  -0.45933  -57.3718\n",
              "  85.7676   -67.0639\n",
              " -54.1457   -75.0977\n",
              "  44.2089    54.4243\n",
              "  42.7783   -23.198\n",
              " -87.6176   -48.311\n",
              "  34.3841   -40.4382\n",
              "  55.6499   -54.7279\n",
              "  10.9352   -94.1859\n",
              "  48.4292   -83.622\n",
              "  74.0037   -57.0168"
            ]
          },
          "metadata": {},
          "execution_count": 16
        }
      ]
    },
    {
      "cell_type": "code",
      "metadata": {
        "colab": {
          "base_uri": "https://localhost:8080/"
        },
        "id": "SJfYsSokFgAc",
        "outputId": "57c3a920-c2a3-46a9-f249-aa71c0517761"
      },
      "source": [
        "#prob = SecondOrderODEProblem(motion, V, R, tspan, p)\n",
        "#integrator = init(prob,SymplecticEuler(),dt=Δt)\n",
        "\n",
        "function animate_solver(NT)\n",
        "    for time = 1:NT\n",
        "        step!(integrator)\n",
        "        V = integrator.u[1,:]\n",
        "        println(V)\n",
        "        R = integrator.u[2,:]\n",
        "        Rx = R[1:Int(length(R)/2)]\n",
        "        Ry = R[Int(length(R)/2)+1:length(R)]\n",
        "        if time%5 == 0\n",
        "            integrator.p = [mu, f_motion_mat(F)]\n",
        "            for i in (1:N)\n",
        "                if abs(Rx[i]) >= x_max-3\n",
        "                    V[i] = V[i] * (-1)\n",
        "                    F[i] = F[i] * (-1)\n",
        "                    integrator.p = [mu, F]\n",
        "                    integrator.u[1,:] = V\n",
        "                elseif abs(Ry[i]) >= y_max-3\n",
        "                    V[i + N] = V[i + N] * (-1)\n",
        "                    F[i + N] = F[i + N] * (-1)\n",
        "                    integrator.p = [mu, F]\n",
        "                    integrator.u[1,:] = V\n",
        "                end\n",
        "            end\n",
        "        end\n",
        "        \n",
        "    function circleShape(x,y,r)\n",
        "        phi = LinRange(0, 2*pi, 500)\n",
        "        x .+ r.*sin.(phi), y .+ r.*cos.(phi)\n",
        "    end\n",
        "        \n",
        "    Plots.plot(circleShape(0, 0, 6.5),\n",
        "              seriestype=[:shape],\n",
        "              lw=0.5,\n",
        "      c=:green,\n",
        "              linecolor=:black,\n",
        "              legend=false,\n",
        "          xlims=(-Lx,Lx),\n",
        "          ylims=(-Ly,Ly),\n",
        "              aspect_ratio=1)\n",
        "    Plots.plot!(circleShape(Rx[1:N_CTLs]', Ry[1:N_CTLs]', 3.0),\n",
        "              seriestype=[:shape],\n",
        "              lw=0.5,\n",
        "      c=:blue,\n",
        "              linecolor=:black,\n",
        "              legend=false,\n",
        "          xlims=(-Lx,Lx),\n",
        "          ylims=(-Ly,Ly),\n",
        "              aspect_ratio=1)\n",
        "    Plots.plot!(circleShape(Rx[N_CTLs+1:end]', Ry[N_CTLs+1:end]', 3.0),\n",
        "              seriestype=[:shape],\n",
        "              lw=0.5,\n",
        "      c=:magenta,\n",
        "              linecolor=:black,\n",
        "              legend=false,\n",
        "          xlims=(-Lx,Lx),\n",
        "          ylims=(-Ly,Ly),\n",
        "              aspect_ratio=1)\n",
        "    frame(anim)\n",
        "        #Plots.scatter(Rx', Ry', xlims = (-x_max, x_max), ylims = (-y_max, y_max), label=:none)\n",
        "    if time%10 == 0\n",
        "        frame(anim)\n",
        "    end\n",
        "    end\n",
        "end\n"
      ],
      "execution_count": null,
      "outputs": [
        {
          "output_type": "execute_result",
          "data": {
            "text/plain": [
              "animate_solver (generic function with 1 method)"
            ]
          },
          "metadata": {},
          "execution_count": 17
        }
      ]
    },
    {
      "cell_type": "code",
      "metadata": {
        "colab": {
          "base_uri": "https://localhost:8080/",
          "height": 374
        },
        "id": "a_I40ECZFfzS",
        "outputId": "52af98ca-3cb2-47cb-a7b9-f003deee4dec"
      },
      "source": [
        "anim = Animation()\n",
        "\n",
        "animate_solver(200)\n",
        "gif(anim, \"R_AAAAAA_New.gif\", fps = 25)"
      ],
      "execution_count": null,
      "outputs": [
        {
          "output_type": "stream",
          "text": [
            "[-29.317972532584026, 92.1141546634227]\n"
          ],
          "name": "stdout"
        },
        {
          "output_type": "error",
          "ename": "LoadError",
          "evalue": "ignored",
          "traceback": [
            "BoundsError: attempt to access 1-element Vector{Float64} at index [1:2]",
            "",
            "Stacktrace:",
            " [1] throw_boundserror(A::Vector{Float64}, I::Tuple{UnitRange{Int64}})",
            "   @ Base ./abstractarray.jl:651",
            " [2] checkbounds",
            "   @ ./abstractarray.jl:616 [inlined]",
            " [3] getindex(A::Vector{Float64}, I::UnitRange{Int64})",
            "   @ Base ./array.jl:807",
            " [4] animate_solver(NT::Int64)",
            "   @ Main ./In[17]:43",
            " [5] top-level scope",
            "   @ In[18]:3",
            " [6] eval",
            "   @ ./boot.jl:360 [inlined]",
            " [7] include_string(mapexpr::typeof(REPL.softscope), mod::Module, code::String, filename::String)",
            "   @ Base ./loading.jl:1094"
          ]
        }
      ]
    },
    {
      "cell_type": "markdown",
      "metadata": {
        "id": "9ChhRCB_AdFq"
      },
      "source": [
        "Дальше уже не то "
      ]
    },
    {
      "cell_type": "code",
      "metadata": {
        "colab": {
          "base_uri": "https://localhost:8080/"
        },
        "id": "oVK8LKF3rdMI",
        "outputId": "e3dcd701-6a5d-489b-bdcb-3ab73e204253"
      },
      "source": [
        "using DifferentialEquations\n",
        "\n",
        "\n",
        "function f(ddu,du,u,p,t)\n",
        "x,y=u\n",
        "g, mu, m = p\n",
        "ddu[2]= g[2] - mu/m*du[2]\n",
        "\n",
        "end\n",
        "\n",
        "g =[0.0, -10.0]\n",
        "mu=1.0\n",
        "m=2.0\n",
        "\n",
        "u0=[4.0, 3.0]\n",
        "du0=[0.0, 0.0]\n",
        "\n",
        "p=[g, mu, m]\n",
        "tspan=(0.0, 20.0)\n",
        "\n",
        "prob = SecondOrderODEProblem(f, du0, u0, tspan, p)\n",
        "\n",
        "sol = solve(prob, SymplecticEuler(), dt=0.01)\n"
      ],
      "execution_count": null,
      "outputs": [
        {
          "output_type": "execute_result",
          "data": {
            "text/plain": [
              "retcode: Success\n",
              "Interpolation: 3rd order Hermite\n",
              "t: 2001-element Vector{Float64}:\n",
              "  0.0\n",
              "  0.01\n",
              "  0.02\n",
              "  0.03\n",
              "  0.04\n",
              "  0.05\n",
              "  0.060000000000000005\n",
              "  0.07\n",
              "  0.08\n",
              "  0.09\n",
              "  0.09999999999999999\n",
              "  0.10999999999999999\n",
              "  0.11999999999999998\n",
              "  ⋮\n",
              " 19.89000000000031\n",
              " 19.90000000000031\n",
              " 19.910000000000313\n",
              " 19.920000000000314\n",
              " 19.930000000000316\n",
              " 19.940000000000317\n",
              " 19.95000000000032\n",
              " 19.96000000000032\n",
              " 19.970000000000322\n",
              " 19.980000000000324\n",
              " 19.990000000000325\n",
              " 20.0\n",
              "u: 2001-element Vector{ArrayPartition{Float64, Tuple{Vector{Float64}, Vector{Float64}}}}:\n",
              " ([0.0, 0.0], [4.0, 3.0])\n",
              " ([0.0, -0.1], [4.0, 3.0])\n",
              " ([0.0, -0.1995], [4.0, 2.999])\n",
              " ([0.0, -0.2985025], [4.0, 2.997005])\n",
              " ([0.0, -0.3970099875], [4.0, 2.994019975])\n",
              " ([0.0, -0.4950249375625], [4.0, 2.990049875125])\n",
              " ([0.0, -0.5925498128746874], [4.0, 2.985099625749375])\n",
              " ([0.0, -0.689587063810314], [4.0, 2.9791741276206283])\n",
              " ([0.0, -0.7861391284912624], [4.0, 2.9722782569825252])\n",
              " ([0.0, -0.8822084328488061], [4.0, 2.9644168656976126])\n",
              " ([0.0, -0.9777973906845621], [4.0, 2.9555947813691246])\n",
              " ([0.0, -1.0729084037311392], [4.0, 2.945816807462279])\n",
              " ([0.0, -1.1675438617124834], [4.0, 2.9350877234249677])\n",
              " ⋮\n",
              " ([0.0, -19.99906429791132], [4.0, -354.8018714041776])\n",
              " ([0.0, -19.999068976421764], [4.0, -355.0018620471567])\n",
              " ([0.0, -19.999073631539655], [4.0, -355.2018527369209])\n",
              " ([0.0, -19.999078263381957], [4.0, -355.4018434732363])\n",
              " ([0.0, -19.999082872065046], [4.0, -355.60183425587013])\n",
              " ([0.0, -19.99908745770472], [4.0, -355.8018250845908])\n",
              " ([0.0, -19.9990920204162], [4.0, -356.00181595916786])\n",
              " ([0.0, -19.99909656031412], [4.0, -356.20180687937204])\n",
              " ([0.0, -19.99910107751255], [4.0, -356.4017978449752])\n",
              " ([0.0, -19.999105572124986], [4.0, -356.6017888557503])\n",
              " ([0.0, -19.99911004426436], [4.0, -356.80177991147156])\n",
              " ([0.0, -19.999114494043038], [4.0, -357.0017710119077])"
            ]
          },
          "metadata": {
            "tags": []
          },
          "execution_count": 32
        }
      ]
    },
    {
      "cell_type": "code",
      "metadata": {
        "id": "7vnJWWSsr3D0"
      },
      "source": [
        "using DifferentialEquations, DiffEqProblemLibrary, Plots\n",
        "\n",
        "using Plots\n",
        "integrator = init(prob,Tsit5();dt=1//2^(4),tstops=[0.5])\n",
        "pyplot(show=true)\n",
        "plot(integrator)\n",
        "for i in integrator\n",
        "   \n",
        "  display(plot!(integrator,vars=(0,1),legend=false))\n",
        "end\n",
        "step!(integrator); plot!(integrator,vars=(0,1),legend=false)\n",
        "savefig(\"iteratorplot.png\")"
      ],
      "execution_count": null,
      "outputs": []
    },
    {
      "cell_type": "code",
      "metadata": {
        "id": "AFnTLzImJ--s"
      },
      "source": [
        "using Pkg\n",
        "Pkg.add(\"PyPlot\")"
      ],
      "execution_count": null,
      "outputs": []
    },
    {
      "cell_type": "code",
      "metadata": {
        "colab": {
          "base_uri": "https://localhost:8080/"
        },
        "id": "_KnSzfHZKREC",
        "outputId": "6cf16fcc-1ac8-44df-f157-c1e1d7c0a7e7"
      },
      "source": [
        "using DifferentialEquations, PyPlot\n",
        "\n",
        "function virus_infection(du, u, p, t)\n",
        "    T, I, V = u\n",
        "    lambda, d, beta, gamma, k, delta = p\n",
        "\n",
        "    du[1]=lambda - d*T -beta*T*V\n",
        "    du[2] = beta*T*V - gamma*I\n",
        "    du[3] = k*I -delta*V\n",
        "end\n",
        "\n",
        "lambda = 1e5\n",
        "d= 0.1\n",
        "beta =  2e-7\n",
        "gamma= 0.5\n",
        "k=100.0\n",
        "delta=5.0\n",
        "\n",
        "T0=1e6\n",
        "I0=0.0\n",
        "V0=10.0\n",
        "\n",
        "u0=[T0,I0,V0]\n",
        "p=[lambda, d, beta, gamma, k, delta]\n"
      ],
      "execution_count": null,
      "outputs": [
        {
          "output_type": "execute_result",
          "data": {
            "text/plain": [
              "6-element Vector{Float64}:\n",
              " 100000.0\n",
              "      0.1\n",
              "      2.0e-7\n",
              "      0.5\n",
              "    100.0\n",
              "      5.0"
            ]
          },
          "metadata": {
            "tags": []
          },
          "execution_count": 4
        }
      ]
    },
    {
      "cell_type": "code",
      "metadata": {
        "colab": {
          "base_uri": "https://localhost:8080/"
        },
        "id": "AHZOUU6mVDIl",
        "outputId": "bd0631d2-bb0c-4ff4-8e2f-cb41a065a8bb"
      },
      "source": [
        "tspan = (0.0, 20.0)\n",
        "prob_ODE=ODEProblem(virus_infection, u0, tspan, p)"
      ],
      "execution_count": null,
      "outputs": [
        {
          "output_type": "execute_result",
          "data": {
            "text/plain": [
              "\u001b[36mODEProblem\u001b[0m with uType \u001b[36mVector{Float64}\u001b[0m and tType \u001b[36mFloat64\u001b[0m. In-place: \u001b[36mtrue\u001b[0m\n",
              "timespan: (0.0, 20.0)\n",
              "u0: 3-element Vector{Float64}:\n",
              "  1.0e6\n",
              "  0.0\n",
              " 10.0"
            ]
          },
          "metadata": {
            "tags": []
          },
          "execution_count": 5
        }
      ]
    },
    {
      "cell_type": "code",
      "metadata": {
        "colab": {
          "base_uri": "https://localhost:8080/"
        },
        "id": "qPZgSHzyVRYF",
        "outputId": "e6008eae-7955-4d38-dc88-715c739f269a"
      },
      "source": [
        "sol_ODE = solve(prob_ODE,Tsit5(),reltol=1e-14,abstol=1e-14)"
      ],
      "execution_count": null,
      "outputs": [
        {
          "output_type": "execute_result",
          "data": {
            "text/plain": [
              "retcode: Success\n",
              "Interpolation: specialized 4th order \"free\" interpolation\n",
              "t: 4851-element Vector{Float64}:\n",
              "  0.0\n",
              "  0.0003329020557577007\n",
              "  0.0006764452378312777\n",
              "  0.0011167154495234383\n",
              "  0.001596572193620821\n",
              "  0.0021403702163773084\n",
              "  0.002724977951052172\n",
              "  0.003353163699661752\n",
              "  0.004014001182405614\n",
              "  0.004704598095427384\n",
              "  0.0054188479918159975\n",
              "  0.006153308305665201\n",
              "  0.006904092476884138\n",
              "  ⋮\n",
              " 19.761657370548182\n",
              " 19.784599661979303\n",
              " 19.80749167026439\n",
              " 19.830320536327264\n",
              " 19.853120636156625\n",
              " 19.875846936851925\n",
              " 19.89854066779669\n",
              " 19.921195129293242\n",
              " 19.943804375873505\n",
              " 19.966370411382787\n",
              " 19.98891113982265\n",
              " 20.0\n",
              "u: 4851-element Vector{Vector{Float64}}:\n",
              " [1.0e6, 0.0, 10.0]\n",
              " [999999.9993347605, 0.0006651951673649845, 9.983379811976928]\n",
              " [999999.9986494384, 0.0013503787152479077, 9.96628052060457]\n",
              " [999999.9977729078, 0.002226594222076653, 9.944444038701779]\n",
              " [999999.9968197941, 0.0031791892296676298, 9.920742659778218]\n",
              " [999999.9957424754, 0.004255699352273484, 9.894006803953255]\n",
              " [999999.9945876087, 0.005409436032108326, 9.865410603697423]\n",
              " [999999.993350447, 0.006645083318826815, 9.834850736587548]\n",
              " [999999.992053196, 0.007940406888879571, 9.802889359957046]\n",
              " [999999.9907021173, 0.009289106137496596, 9.769692469756526]\n",
              " [999999.9893096702, 0.01067870147032053, 9.735576576751225]\n",
              " [999999.9878829914, 0.01210203478449069, 9.700725278873856]\n",
              " [999999.9864299854, 0.013551190006354895, 9.665339056463225]\n",
              " ⋮\n",
              " [127102.4518370622, 172875.8451737638, 3.4520684160890775e6]\n",
              " [127091.73262574546, 172905.94683716694, 3.452692178813807e6]\n",
              " [127080.87036980806, 172935.83046974352, 3.4533120597307254e6]\n",
              " [127069.87689806154, 172965.47804133763, 3.453927670047675e6]\n",
              " [127058.74105045594, 172994.93282486888, 3.454539894608709e6]\n",
              " [127047.49021608697, 173024.1354722306, 3.4551474859525515e6]\n",
              " [127036.10931530561, 173053.1379152893, 3.45575151072732e6]\n",
              " [127024.60660600479, 173081.9302671601, 3.4563517507441165e6]\n",
              " [127012.99003468211, 173110.5038584225, 3.4569480126708364e6]\n",
              " [127001.26344312754, 173138.86022834756, 3.4575403160562026e6]\n",
              " [126989.42213768499, 173167.0207407777, 3.458129095500563e6]\n",
              " [126983.55114537221, 173180.8135133199, 3.458417681008398e6]"
            ]
          },
          "metadata": {
            "tags": []
          },
          "execution_count": 7
        }
      ]
    },
    {
      "cell_type": "code",
      "metadata": {
        "colab": {
          "base_uri": "https://localhost:8080/",
          "height": 508
        },
        "id": "n6YXD4zDW4Jc",
        "outputId": "d4b3a3f8-9eea-41fd-df77-d3504bdf21d4"
      },
      "source": [
        "tt = 0:0.01:20\n",
        "yt_ODE = Array(sol_ODE(tt)')\n",
        "fig = PyPlot.figure(constrained_layout=true)\n",
        "ax = PyPlot.gca()\n",
        "ax.plot(tt, yt_ODE)\n",
        "ax.set_yscale(\"symlog\", linthresh=1.0)\n",
        "ax.set_title(\"Базовая модель вирусной инфекции\")\n",
        "ax.set_xlabel(\"t, сутки\")\n",
        "ax.set_ylabel(\"численность\")\n",
        "ax.grid(\"on\")\n",
        "ax.legend(labels=[\"T(t)\",\"I(t)\",\"V(t)\"])\n",
        "PyPlot.show()\n"
      ],
      "execution_count": null,
      "outputs": [
        {
          "output_type": "display_data",
          "data": {
            "image/png": "[encoded data removed]",
            "text/plain": [
              "Figure(PyObject <Figure size 640x480 with 1 Axes>)"
            ]
          },
          "metadata": {
            "tags": []
          }
        }
      ]
    },
    {
      "cell_type": "code",
      "metadata": {
        "colab": {
          "base_uri": "https://localhost:8080/"
        },
        "id": "9d89Qm3fPWOU",
        "outputId": "91332394-314f-4fff-a185-7cd53a559fb7"
      },
      "source": [
        "using DifferentialEquations\n",
        "function virus_infection_DDE(du,u,h,p,t)\n",
        "T,I,V = u\n",
        "lambda,d,beta,gamma,k,delta,tau = p\n",
        "Iprev = h(p, t-tau)[2]\n",
        "du[1] = lambda - d*T - beta*T*V\n",
        "du[2] = beta*T*V - gamma*I\n",
        "du[3] = k*Iprev - delta*V\n",
        "end\n",
        "\n",
        "lambda = 1e5\n",
        "d= 0.1\n",
        "beta =  2e-7\n",
        "gamma= 0.5\n",
        "k=100.0\n",
        "delta=5.0\n",
        "tau=1.0\n",
        "\n",
        "T0=1e6\n",
        "I0=0.0\n",
        "V0=10.0\n",
        "u0=[T0,I0,V0]\n",
        "p=[lambda, d, beta, gamma, k, delta, tau]\n",
        "\n",
        "tspan=(0.0,20.0)\n",
        "lags = [1.0]\n",
        "h(p, t) = [0,0,0]\n",
        "prob_DDE = DDEProblem(virus_infection_DDE,u0,h,tspan,p,\n",
        "constant_lags = lags)\n",
        "sol_DDE = solve(prob_DDE, MethodOfSteps(Tsit5()),\n",
        "reltol=1e-14,abstol=1e-14)\n"
      ],
      "execution_count": null,
      "outputs": [
        {
          "output_type": "execute_result",
          "data": {
            "text/plain": [
              "retcode: Success\n",
              "Interpolation: specialized 4th order \"free\" interpolation\n",
              "t: 7957-element Vector{Float64}:\n",
              "  0.0\n",
              "  0.0003692003721735389\n",
              "  0.0008264438459260643\n",
              "  0.0013827148453479546\n",
              "  0.002026051432149242\n",
              "  0.002753063637614012\n",
              "  0.0035523152818490228\n",
              "  0.004415845918390839\n",
              "  0.0053339698106458795\n",
              "  0.006298614208107072\n",
              "  0.007301992179339235\n",
              "  0.00833770731619599\n",
              "  0.009400049177480756\n",
              "  ⋮\n",
              " 19.966714043242465\n",
              " 19.969923393675717\n",
              " 19.97313384832973\n",
              " 19.97634550120435\n",
              " 19.979558160547352\n",
              " 19.98277281270079\n",
              " 19.985987823712573\n",
              " 19.989204629676973\n",
              " 19.99242227319432\n",
              " 19.9956410898924\n",
              " 19.998861136305536\n",
              " 20.0\n",
              "u: 7957-element Vector{Vector{Float64}}:\n",
              " [1.0e6, 0.0, 10.0]\n",
              " [999999.999262294, 0.0007376515103376082, 9.981557009526073]\n",
              " [999999.9983505909, 0.0016491363545677574, 9.958763066406194]\n",
              " [999999.9972442987, 0.0027549386461853463, 9.931102695473442]\n",
              " [999999.9959687616, 0.00402960272687229, 9.89920881067514]\n",
              " [999999.9945323508, 0.005464633135368306, 9.863289905783471]\n",
              " [999999.9929593467, 0.007035639156185708, 9.823952306364228]\n",
              " [999999.9912670286, 0.00872523558985859, 9.781627325468401]\n",
              " [999999.9894758799, 0.010512852222771426, 9.736826507136303]\n",
              " [999999.9876029935, 0.012381322672417115, 9.689976705760593]\n",
              " [999999.9856646626, 0.014314297954129408, 9.641484900649832]\n",
              " [999999.9836742465, 0.01629837497897161, 9.59168479947286]\n",
              " [999999.9816435621, 0.018321706609773378, 9.540871629923267]\n",
              " ⋮\n",
              " [61544.53954253166, 389469.3848557193, 9.225483681836225e6]\n",
              " [61481.50110480702, 389208.85382922925, 9.224408732487325e6]\n",
              " [61418.876201678875, 388948.2363925481, 9.223309915633997e6]\n",
              " [61356.661592495366, 388687.5266476684, 9.222187235032631e6]\n",
              " [61294.85956859801, 388426.74188680376, 9.22104079509368e6]\n",
              " [61233.44989565133, 388165.80376834876, 9.219870272941388e6]\n",
              " [61172.462400360244, 387904.84663821605, 9.218676300080784e6]\n",
              " [61111.86841727806, 387643.75564026786, 9.217458382280707e6]\n",
              " [61051.68465662949, 387382.61018730194, 9.216216916294124e6]\n",
              " [60991.90339654379, 387121.3847358592, 9.214951814016026e6]\n",
              " [60932.52222419776, 386860.07639082236, 9.2136630907495e6]\n",
              " [60911.62125099393, 386767.66140461346, 9.213201768151747e6]"
            ]
          },
          "metadata": {
            "tags": []
          },
          "execution_count": 10
        }
      ]
    },
    {
      "cell_type": "code",
      "metadata": {
        "colab": {
          "base_uri": "https://localhost:8080/",
          "height": 508
        },
        "id": "-_hITfxfUC2N",
        "outputId": "66e4fb4a-4c23-4c9d-83aa-75c899022ced"
      },
      "source": [
        "tt = 0:0.01:20\n",
        "yt_DDE = Array(sol_DDE(tt)')\n",
        "using PyPlot\n",
        "fig = PyPlot.figure(constrained_layout=true)\n",
        "ax = PyPlot.gca()\n",
        "cs = [\"blue\",\"orange\",\"red\"]\n",
        "for i in 1:3\n",
        "    ax.plot(tt, yt_ODE[:,i], color=cs[i])\n",
        "end\n",
        "for i in 1:3\n",
        "    ax.plot(tt, yt_DDE[:,i], \"--\", color=cs[i])\n",
        "end\n",
        "ax.set_yscale(\"symlog\", linthreshy=1.0)\n",
        "ax.set_title(\"Модель вирусной инфекции с запаздыванием\")\n",
        "ax.set_xlabel(\"t, сутки\")\n",
        "ax.set_ylabel(\"численность\")\n",
        "ax.grid(\"on\")\n",
        "ax.legend(labels=[\"T(t)\",\"I(t)\",\"V(t)\"])\n",
        "\n",
        "PyPlot.show()"
      ],
      "execution_count": null,
      "outputs": [
        {
          "output_type": "display_data",
          "data": {
            "image/png": "[encoded data removed]",
            "text/plain": [
              "Figure(PyObject <Figure size 640x480 with 1 Axes>)"
            ]
          },
          "metadata": {
            "tags": []
          }
        }
      ]
    },
    {
      "cell_type": "code",
      "metadata": {
        "colab": {
          "base_uri": "https://localhost:8080/"
        },
        "id": "DO95DWe4cpF4",
        "outputId": "71419b95-4949-4971-b365-483a6e4b8c32"
      },
      "source": [
        "using DifferentialEquations\n",
        "\n",
        "lambda = 1e5\n",
        "d= 0.1\n",
        "beta =  2e-7\n",
        "gamma= 0.5\n",
        "k=100.0\n",
        "delta=5.0\n",
        "p=[lambda, d, beta, gamma, k, delta]\n",
        "\n",
        "tspan=(0.0, 20.0)\n",
        "\n",
        "rate1(u,p,t) = lambda\n",
        "function affect1!(integrator)\n",
        "integrator.u[1] += 1\n",
        "end\n",
        "jump1 = ConstantRateJump(rate1,affect1!)\n",
        "rate2(u,p,t) = d*u[1] \n",
        "function affect2!(integrator)\n",
        "integrator.u[1] -= 1 \n",
        "end\n",
        "jump2 = ConstantRateJump(rate2,affect2!)\n",
        "rate3(u,p,t) = beta*u[1]*u[3] \n",
        "function affect3!(integrator)\n",
        "integrator.u[1] -= 1\n",
        "integrator.u[2] += 1 \n",
        "end\n",
        "jump3 = ConstantRateJump(rate3,affect3!)\n",
        "\n",
        "rate4(u,p,t) = gamma*u[2]\n",
        "function affect4!(integrator)\n",
        "integrator.u[2] -= 1\n",
        "end\n",
        "jump4 = ConstantRateJump(rate4,affect4!)\n",
        "\n",
        "rate5(u,p,t) = k*u[2]\n",
        "function affect5!(integrator)\n",
        "integrator.u[3] += 1\n",
        "end\n",
        "jump5 = ConstantRateJump(rate5,affect5!)\n",
        "\n",
        "rate6(u,p,t) = delta*u[3]\n",
        "function affect6!(integrator)\n",
        "integrator.u[3] -= 1\n",
        "end\n",
        "jump6 = ConstantRateJump(rate6,affect6!)\n"
      ],
      "execution_count": null,
      "outputs": [
        {
          "output_type": "execute_result",
          "data": {
            "text/plain": [
              "ConstantRateJump{typeof(rate6), typeof(affect6!)}(rate6, affect6!)"
            ]
          },
          "metadata": {
            "tags": []
          },
          "execution_count": 12
        }
      ]
    },
    {
      "cell_type": "code",
      "metadata": {
        "colab": {
          "base_uri": "https://localhost:8080/"
        },
        "id": "jglX-bX3co43",
        "outputId": "5f38520a-18ef-4380-c30c-3dcfbe0a8ea1"
      },
      "source": [
        "using DifferentialEquations\n",
        "u0 = Int64.([1e6,0,10])\n",
        "prob = DiscreteProblem(u0,tspan,p)\n",
        "jumps = [jump1, jump2, jump3, jump4, jump5, jump6]\n",
        "jump_prob = JumpProblem(prob,Direct(),jumps..., save_positions=(false,false))\n",
        "sol_J = solve(jump_prob,SSAStepper(),saveat=0.1)\n"
      ],
      "execution_count": null,
      "outputs": [
        {
          "output_type": "execute_result",
          "data": {
            "text/plain": [
              "retcode: Default\n",
              "Interpolation: Piecewise constant interpolation\n",
              "t: 201-element Vector{Float64}:\n",
              "  0.0\n",
              "  0.1\n",
              "  0.2\n",
              "  0.3\n",
              "  0.4\n",
              "  0.5\n",
              "  0.6\n",
              "  0.7\n",
              "  0.8\n",
              "  0.9\n",
              "  1.0\n",
              "  1.1\n",
              "  1.2\n",
              "  ⋮\n",
              " 18.9\n",
              " 19.0\n",
              " 19.1\n",
              " 19.2\n",
              " 19.3\n",
              " 19.4\n",
              " 19.5\n",
              " 19.6\n",
              " 19.7\n",
              " 19.8\n",
              " 19.9\n",
              " 20.0\n",
              "u: 201-element Vector{Vector{Int64}}:\n",
              " [1000000, 0, 10]\n",
              " [1000058, 0, 9]\n",
              " [1000089, 1, 17]\n",
              " [1000247, 1, 22]\n",
              " [1000053, 1, 25]\n",
              " [1000337, 2, 23]\n",
              " [1000339, 3, 37]\n",
              " [1000203, 4, 59]\n",
              " [1000302, 4, 66]\n",
              " [1000555, 5, 75]\n",
              " [1000658, 6, 98]\n",
              " [1000643, 7, 116]\n",
              " [1000723, 9, 125]\n",
              " ⋮\n",
              " [126608, 171972, 3436088]\n",
              " [126682, 171971, 3439646]\n",
              " [126820, 172120, 3443186]\n",
              " [126545, 172561, 3445373]\n",
              " [126497, 172672, 3449004]\n",
              " [126608, 172588, 3448816]\n",
              " [126582, 172767, 3450079]\n",
              " [126660, 172880, 3452715]\n",
              " [126743, 173005, 3454701]\n",
              " [126593, 173185, 3457263]\n",
              " [126616, 173374, 3458748]\n",
              " [126779, 173200, 3460914]"
            ]
          },
          "metadata": {
            "tags": []
          },
          "execution_count": 13
        }
      ]
    },
    {
      "cell_type": "code",
      "metadata": {
        "colab": {
          "base_uri": "https://localhost:8080/",
          "height": 508
        },
        "id": "I74CYd2AcooA",
        "outputId": "dcd5da7f-625a-45f9-d884-7c20891ea715"
      },
      "source": [
        "tt = 0:0.01:20\n",
        "yt_J = Array(sol_J(tt)')\n",
        "using PyPlot\n",
        "fig = PyPlot.figure(constrained_layout=true)\n",
        "ax = PyPlot.gca()\n",
        "cs = [\"blue\",\"orange\",\"red\"]\n",
        "for i in 1:3\n",
        "    ax.plot(tt, yt_J[:,i], color=cs[i])\n",
        "end\n",
        "for i in 1:3\n",
        "    ax.plot(tt, yt_ODE[:,i], \"--\", color=cs[i])\n",
        "end\n",
        "ax.set_yscale(\"symlog\", linthreshy=1.0)\n",
        "ax.set_title(\"Стохастические реализации модели вирусной инфекции\")\n",
        "ax.set_xlabel(\"t, сутки\")\n",
        "ax.set_ylabel(\"численности\")\n",
        "ax.grid(\"on\")\n",
        "ax.legend(labels=[\"T(t)\",\"I(t)\",\"V(t)\"])\n",
        "\n",
        "PyPlot.show()"
      ],
      "execution_count": null,
      "outputs": [
        {
          "output_type": "display_data",
          "data": {
            "image/png": "[encoded data removed]",
            "text/plain": [
              "Figure(PyObject <Figure size 640x480 with 1 Axes>)"
            ]
          },
          "metadata": {
            "tags": []
          }
        }
      ]
    },
    {
      "cell_type": "code",
      "metadata": {
        "id": "mZEnJB_Loj6l",
        "colab": {
          "base_uri": "https://localhost:8080/",
          "height": 508
        },
        "outputId": "2b7c5823-490d-43a7-89a7-810b3aa52e7f"
      },
      "source": [
        "using DifferentialEquations\n",
        "using PyPlot\n",
        "\n",
        "k = 100 \n",
        "l = 2*10^(-7)\n",
        "m = 5\n",
        "n = 0.1\n",
        "o = 0.5\n",
        "r = 10^5 \n",
        "tau = 1.0                        \n",
        "\n",
        "T0 = 10^6                           \n",
        "I0 = 0.0                           \n",
        "V0 = 10\n",
        "\n",
        "# scaling the problem to accelerate the computation\n",
        "s = 1000.0\n",
        "r = r/s\n",
        "l = l*s\n",
        "T0 = r/n\n",
        "\n",
        "u0 = [T0,I0,V0] \n",
        "p = [k,l,m,n,o,r,tau]                      \n",
        "tspan = (0.0,20.0)\n",
        "\n",
        "function virusZ(du,u,p,t)\n",
        "    T,I,V = u\n",
        "    k,l,m,n,o,r,tau = p\n",
        "\n",
        "    du[1] = dT = r - n*T - l*T*V                   \n",
        "    du[2] = dI = l*T*V - o*I\n",
        "    du[3] = dV = k*I - m*V\n",
        "end\n",
        "prob_ODE = ODEProblem(virusZ,u0,tspan,p)\n",
        "sol_ODE = solve(prob_ODE,TRBDF2(),reltol=1e-14,abstol=1e-14)\n",
        "tt = 0:0.1:20\n",
        "yt_ODE = Array(sol_ODE(tt)')\n",
        "\n",
        "\n",
        "rate1(u,p,t) = r\n",
        "function affect1!(integrator)\n",
        "  integrator.u[1] += 1\n",
        "end\n",
        "jump1 = ConstantRateJump(rate1,affect1!)\n",
        "\n",
        "rate2(u,p,t) = n*u[1]\n",
        "function affect2!(integrator)\n",
        "  integrator.u[1] -= 1\n",
        "end\n",
        "jump2 = ConstantRateJump(rate2,affect2!)\n",
        "\n",
        "rate3(u,p,t) = l*u[1]*u[3]\n",
        "function affect3!(integrator)\n",
        "  integrator.u[1] -= 1\n",
        "  integrator.u[2] += 1\n",
        "end\n",
        "jump3 = ConstantRateJump(rate3,affect3!)\n",
        "\n",
        "rate4(u,p,t) = o*u[2]\n",
        "function affect4!(integrator)\n",
        "  integrator.u[2] -= 1\n",
        "end\n",
        "jump4 = ConstantRateJump(rate4,affect4!)\n",
        "\n",
        "rate5(u,p,t) = k*u[2]\n",
        "function affect5!(integrator)\n",
        "  integrator.u[3] += 1\n",
        "end\n",
        "jump5 = ConstantRateJump(rate5,affect5!)\n",
        "\n",
        "rate6(u,p,t) = m*u[3]\n",
        "function affect6!(integrator)\n",
        "  integrator.u[3] -= 1\n",
        "end\n",
        "jump6 = ConstantRateJump(rate6,affect6!)\n",
        "\n",
        "prob = DiscreteProblem(Int64.(u0),tspan,p)\n",
        "jump_prob = JumpProblem(prob,Direct(),jump1,jump2,jump3,jump4,jump5,jump6,\n",
        "\t\t\t save_positions=(false,false))\n",
        "sol = solve(jump_prob,SSAStepper(),saveat=0.1)\n",
        "yt = Array(sol(tt)')\n",
        "GC.gc()\n",
        "sol = solve(jump_prob,SSAStepper(),saveat=0.1)\n",
        "yt2 = Array(sol(tt)')\n",
        "GC.gc()\n",
        "sol = solve(jump_prob,SSAStepper(),saveat=0.1)\n",
        "yt3 = Array(sol(tt)')\n",
        "GC.gc()\n",
        "sol = solve(jump_prob,SSAStepper(),saveat=0.1)\n",
        "yt4 = Array(sol(tt)')\n",
        "GC.gc()\n",
        "sol = solve(jump_prob,SSAStepper(),saveat=0.1)\n",
        "yt5 = Array(sol(tt)')\n",
        "GC.gc()\n",
        "sol = solve(jump_prob,SSAStepper(),saveat=0.1)\n",
        "yt6 = Array(sol(tt)')\n",
        "GC.gc()\n",
        "sol = solve(jump_prob,SSAStepper(),saveat=0.1)\n",
        "yt7 = Array(sol(tt)')\n",
        "GC.gc()\n",
        "sol = solve(jump_prob,SSAStepper(),saveat=0.1)\n",
        "yt8 = Array(sol(tt)')\n",
        "GC.gc()\n",
        "sol = solve(jump_prob,SSAStepper(),saveat=0.1)\n",
        "yt9 = Array(sol(tt)')\n",
        "GC.gc()\n",
        "sol = solve(jump_prob,SSAStepper(),saveat=0.1)\n",
        "yt10 = Array(sol(tt)')\n",
        "GC.gc()\n",
        "\n",
        "fig = PyPlot.figure(constrained_layout=true)\n",
        "ax = PyPlot.gca()\n",
        "cs = [\"blue\",\"orange\",\"red\"]\n",
        "for i in 1:3\n",
        "    ax.plot(tt, yt[:,i], color=cs[i])\n",
        "end\n",
        "for i in 1:3\n",
        "    ax.plot(tt, yt2[:,i], color=cs[i])\n",
        "    ax.plot(tt, yt3[:,i], color=cs[i])\n",
        "    ax.plot(tt, yt4[:,i], color=cs[i])\n",
        "    ax.plot(tt, yt5[:,i], color=cs[i])\n",
        "    ax.plot(tt, yt6[:,i], color=cs[i])\n",
        "    ax.plot(tt, yt7[:,i], color=cs[i])\n",
        "    ax.plot(tt, yt8[:,i], color=cs[i])\n",
        "    ax.plot(tt, yt9[:,i], color=cs[i])\n",
        "    ax.plot(tt, yt10[:,i], color=cs[i])\n",
        "end\n",
        "for i in 1:3\n",
        "    ax.plot(tt, yt_ODE[:,i], \"--\", color=cs[i])\n",
        "end\n",
        "ax.set_yscale(\"symlog\", linthresh=1.0)\n",
        "ax.set_title(\"Стохастические реализации модели вирусной инфекции\")\n",
        "ax.set_xlabel(\"t, сутки\")\n",
        "ax.set_ylabel(\"численности\")\n",
        "ax.grid(\"on\")\n",
        "ax.legend(labels=[\"T(t)\",\"I(t)\",\"V(t)\"])\n",
        "\n",
        "PyPlot.show()\n",
        "\n"
      ],
      "execution_count": null,
      "outputs": [
        {
          "output_type": "display_data",
          "data": {
            "image/png": "[encoded data removed]",
            "text/plain": [
              "Figure(PyObject <Figure size 640x480 with 1 Axes>)"
            ]
          },
          "metadata": {
            "tags": []
          }
        }
      ]
    },
    {
      "cell_type": "code",
      "metadata": {
        "id": "-gVCqvMmr278"
      },
      "source": [
        "using DifferentialEquations\n",
        "using PyPlot\n",
        "\n",
        "k = 100 \n",
        "l = 2*10^(-7)\n",
        "m = 5\n",
        "n = 0.1\n",
        "o = 0.5\n",
        "r = 10^5 \n",
        "tau = 1.0                        \n",
        "\n",
        "T0 = 10^6                           \n",
        "I0 = 0.0                           \n",
        "V0 = 10\n",
        "\n",
        "# scaling the problem to accelerate the computation\n",
        "s = 1000.0\n",
        "r = r/s\n",
        "l = l*s\n",
        "T0 = r/n\n",
        "\n",
        "u0 = [T0,I0,V0] \n",
        "p = [k,l,m,n,o,r,tau]                      \n",
        "tspan = (0.0,20.0)\n",
        "\n",
        "function virusZ(du,u,p,t)\n",
        "    T,I,V = u\n",
        "    k,l,m,n,o,r,tau = p\n",
        "\n",
        "    du[1] = dT = r - n*T - l*T*V                   \n",
        "    du[2] = dI = l*T*V - o*I\n",
        "    du[3] = dV = k*I - m*V\n",
        "end\n",
        "prob_ODE = ODEProblem(virusZ,u0,tspan,p)\n",
        "sol_ODE = solve(prob_ODE,TRBDF2(),reltol=1e-14,abstol=1e-14)\n",
        "tt = 0:0.1:20\n",
        "yt_ODE = Array(sol_ODE(tt)')\n",
        "\n",
        "\n",
        "rate1(u,p,t) = r\n",
        "function affect1!(integrator)\n",
        "  integrator.u[1] += 1\n",
        "end\n",
        "jump1 = ConstantRateJump(rate1,affect1!)\n",
        "\n",
        "rate2(u,p,t) = n*u[1]\n",
        "function affect2!(integrator)\n",
        "  integrator.u[1] -= 1\n",
        "end\n",
        "jump2 = ConstantRateJump(rate2,affect2!)\n",
        "\n",
        "rate3(u,p,t) = l*u[1]*u[3]\n",
        "function affect3!(integrator)\n",
        "  integrator.u[1] -= 1\n",
        "  integrator.u[2] += 1\n",
        "end\n",
        "jump3 = ConstantRateJump(rate3,affect3!)\n",
        "\n",
        "rate4(u,p,t) = o*u[2]\n",
        "function affect4!(integrator)\n",
        "  integrator.u[2] -= 1\n",
        "end\n",
        "jump4 = ConstantRateJump(rate4,affect4!)\n",
        "\n",
        "rate5(u,p,t) = k*u[2]\n",
        "function affect5!(integrator)\n",
        "  integrator.u[3] += 1\n",
        "end\n",
        "jump5 = ConstantRateJump(rate5,affect5!)\n",
        "\n",
        "rate6(u,p,t) = m*u[3]\n",
        "function affect6!(integrator)\n",
        "  integrator.u[3] -= 1\n",
        "end\n",
        "jump6 = ConstantRateJump(rate6,affect6!)\n",
        "\n",
        "prob = DiscreteProblem(Int64.(u0),tspan,p)\n",
        "jump_prob = JumpProblem(prob,Direct(),jump1,jump2,jump3,jump4,jump5,jump6,\n",
        "\t\t\t save_positions=(false,false))\n",
        "sol = solve(jump_prob,SSAStepper(),saveat=0.1)\n",
        "yt = Array(sol(tt)')\n",
        "GC.gc()\n",
        "\n",
        "\n",
        "\n",
        "#попытка сделать ансамбль\n",
        "\n"
      ],
      "execution_count": null,
      "outputs": []
    },
    {
      "cell_type": "code",
      "metadata": {
        "colab": {
          "base_uri": "https://localhost:8080/",
          "height": 218
        },
        "id": "3f-hQnnS8WW9",
        "outputId": "67eaeb01-62f2-4b5b-f636-a51f4f4a268b"
      },
      "source": [
        "# 2D Linear Diffusion Equation\n",
        "# Used Central difference scheme\n",
        "\n",
        "using PyPlot\n",
        "using DifferentialEquations\n",
        "\n",
        "# PHYSICAL PARAMTERS\n",
        "Lx = 10.0\n",
        "Ly = 10.0\n",
        "# Variable declarations\n",
        "NX = 101;\n",
        "NY = 101;\n",
        "\n",
        "\n",
        "Rc = 1.0; #radius^2 of cell\n",
        "xc = 5.0; #location of cell\n",
        "yc = 5.0; #location of cell\n",
        "ucell = 5.0; # concentration\n",
        "\n",
        "gcVal = 0.1;\n",
        "gc = ones(99,99)*gcVal; # production\n",
        "del = 0.01; # destruction\n",
        "nu = 0.2; # diffusion coefficient\n",
        "dx = 10/(NX-1)\n",
        "dy = 10/(NY-1);\n",
        "sigma = 0.25;\n",
        "dt = sigma*dx*dy/nu;\n",
        "\n",
        "x = range(0, length = NX, stop = Lx)\n",
        "y = range(0, length = NY, stop = Ly)\n",
        "\n",
        "u  = zeros(NY,NX); #create a 1xn vector of 1's\n",
        "un = zeros(NY,NX);\n",
        "\n",
        "function source_term(gc::Array{Float64,2},dx::Float64,dy::Float64,NX::Integer,NY::Integer,Thot::Float64,xc::Float64,yc::Float64,Rc::Float64)\n",
        "  for i = 1:NX\n",
        "      for j = 1:NY\n",
        "        if (((i*dx-xc).^2+(j*dy-yc).^2 <= Rc))\n",
        "            gc[i,j] = Thot\n",
        "        end\n",
        "      end\n",
        "      end\n",
        "end\n",
        "\n",
        "\n",
        "\n",
        "function f(ddu,du,u,p,t) \n",
        "    g, mu, m = p \n",
        "     \n",
        "    ddu .= g .- mu/m.*du\n",
        "end \n",
        " \n",
        "g = [0.0, -9.8]\n",
        "mu = 1.0 \n",
        "m = 2.0 \n",
        " \n",
        "u0 = [5.0, 8.0] \n",
        "du0 = [0.0, 0.0] \n",
        " \n",
        "p = [g, mu, m] \n",
        "tspan=(0.0, 20.0) \n",
        " \n",
        "prob = SecondOrderODEProblem(f, du0, u0, tspan, p)\n",
        "\n",
        "integrator = init(prob,SymplecticEuler(),dt=dt)\n",
        "\n",
        "\n",
        "function diffusion_2D(NT)\n",
        "    for n in 1:NT\n",
        "\n",
        "\t# движение клетки\n",
        "\tstep!(integrator)\n",
        "\tcell_x = integrator.u[3]\n",
        "\tcell_y = integrator.u[4]\n",
        "\n",
        "  #integrator.p=[g, mu, m]\n",
        "\n",
        "\t# диффузия\n",
        "\tgc = zeros(99,99)\n",
        "\tsource_term(gc,dx,dy,NX-2,NY-2,gcVal,cell_x,cell_y,Rc)\n",
        "\n",
        "        un = copy(u)\n",
        "        u[2:end-1,2:end-1] = (1-del*dt)*un[2:end-1,2:end-1] +\n",
        "\t\t             nu*dt/dx^2*(un[2:end-1,3:end]-\n",
        "\t\t\t     \t\t 2*un[2:end-1,2:end-1] + un[2:end-1,1:end-2]) +\n",
        "                             nu*dt/dy^2*(un[3:end,2:end-1]-2*un[2:end-1,2:end-1]\n",
        "\t\t\t\t\t  + un[1:end-2,2:end-1]) + gc*dt\n",
        "        u[1,:]  .= 0.0\n",
        "        u[end,:].= 0.0\n",
        "        u[:,1]  .= 0.0\n",
        "        u[:,end].= 0.0\n",
        "    end\n",
        "\n",
        "    figure()\n",
        "    contourf(x,y,u, cmap=ColorMap(\"coolwarm\"))\n",
        "    colorbar()\n",
        "    xlim(0,10)\n",
        "    ylim(0,10)\n",
        "    zlim(0,10)\n",
        "    #p=countour(x,y,u,fill=True)\n",
        "    #frame(anim)\n",
        "end\n",
        "\n",
        "#anim=Animation()\n",
        "#p=countour(x,y,u,fill=True)\n",
        "\n",
        "#gif(anim,\"diff_cell.gif\", fps=5 )\n",
        "\n",
        "for i = 1:5\n",
        "    diffusion_2D(10)\n",
        "end\n",
        "\n"
      ],
      "execution_count": null,
      "outputs": [
        {
          "output_type": "error",
          "ename": "LoadError",
          "evalue": "ignored",
          "traceback": [
            "UndefVarError: Animation not defined",
            "",
            "Stacktrace:",
            " [1] top-level scope",
            "   @ In[42]:102",
            " [2] eval",
            "   @ ./boot.jl:360 [inlined]",
            " [3] include_string(mapexpr::typeof(REPL.softscope), mod::Module, code::String, filename::String)",
            "   @ Base ./loading.jl:1094"
          ]
        }
      ]
    },
    {
      "cell_type": "code",
      "metadata": {
        "id": "2x5k9XPFAsm0"
      },
      "source": [
        "using Pkg\n",
        "Pkg.add(\"Random\")\n"
      ],
      "execution_count": null,
      "outputs": []
    },
    {
      "cell_type": "code",
      "metadata": {
        "id": "_ymeF7p2Ayf1"
      },
      "source": [
        "using Pkg\n",
        "Pkg.add(\"Distributions\")"
      ],
      "execution_count": null,
      "outputs": []
    },
    {
      "cell_type": "code",
      "metadata": {
        "id": "QUHm1-IASOl7",
        "colab": {
          "base_uri": "https://localhost:8080/"
        },
        "outputId": "e0804213-7506-4b3e-ce01-a02fbe568040"
      },
      "source": [
        "using Random, Distributions\n",
        "etta=1.0\n",
        "K_max=3.9 #mu+3sigma_K\n",
        "beta=2\n",
        "sigma_alfa=pi/3\n",
        "sigma_k=0.3 #в наноньютонах\n",
        "mu=3.0 #в наноньютонах\n",
        "\n",
        "function update_F(f)\n",
        "fx, fy, theta = f\n",
        "K=abs(rand(Normal(mu,(sigma_k)^2)))\n",
        "alfa=rand(Normal(0,(sigma_alfa)^2))*(1-(K/K_max)^beta)\n",
        "theta=theta+alfa\n",
        "f=[etta*K*sin(theta),etta*K*cos(theta), theta]\n",
        "\n",
        "end\n",
        "\n",
        "q=[0.324, 0.543, atan(0.543/0.324)]\n",
        "update_F(q)"
      ],
      "execution_count": null,
      "outputs": [
        {
          "output_type": "execute_result",
          "data": {
            "text/plain": [
              "3-element Vector{Float64}:\n",
              " 2.9969581228458493\n",
              " 0.22273656874598552\n",
              " 1.4966118332664573"
            ]
          },
          "metadata": {
            "tags": []
          },
          "execution_count": 20
        }
      ]
    },
    {
      "cell_type": "code",
      "metadata": {
        "colab": {
          "base_uri": "https://localhost:8080/"
        },
        "id": "DedI-1AkHA5e",
        "outputId": "668dc548-2e4d-4656-e397-68aaa8c57a6c"
      },
      "source": [
        "N=20\n",
        "vektor_sistem_xy = [[rand(Uniform(-x_max, x_max)), rand(Uniform(-y_max, y_max)), rand(Uniform(0, 2*pi))] for i in (1:N)]\n",
        "for i in (1:N)\n",
        "    push!(vektor_sistem_xy[i], rand(Normal(8, 2)) * cos(vektor_sistem_xy[i][3]))\n",
        "    push!(vektor_sistem_xy[i], vektor_sistem_xy[i][4] * tan(vektor_sistem_xy[i][3]))\n",
        "end\n",
        "vektor_sistem_xy"
      ],
      "execution_count": null,
      "outputs": [
        {
          "output_type": "execute_result",
          "data": {
            "text/plain": [
              "20-element Vector{Vector{Float64}}:\n",
              " [34.057328333587236, 8.21645916164853, 2.7107343884136994, -7.351098447303307, 3.3790075270415096]\n",
              " [-0.5739687056890261, 7.3055586918733795, 0.39521260980524153, 5.625696889438591, 2.3468236975761614]\n",
              " [12.190167191059338, 5.104134810197856, 0.25697146432040213, 11.434031815466637, 3.004649571964356]\n",
              " [-22.969578081094504, -2.666472450135956, 1.073348852600546, 4.567188427046976, 8.41114025081957]\n",
              " [4.147078919386132, 20.407406994061148, 4.820988799293623, 1.0971936909333573, -10.06333989798175]\n",
              " [14.64195118380271, -27.888597435307556, 4.34468707691206, -2.906290174313898, -7.544461325641816]\n",
              " [-35.86549941575926, -16.90415259663233, 3.98193475906489, -4.7146258855527865, -5.263410902872854]\n",
              " [-9.064830640140826, -13.493794644032047, 2.8216388180415843, -6.994886716949657, 2.3176729769180024]\n",
              " [-22.312283556988266, 21.170114802292247, 5.9061327612931995, 5.345806948103259, -2.1169345653474547]\n",
              " [-3.3058004344186287, 24.09497581882286, 1.9200254524981477, -3.196920056911062, 8.779005470210063]\n",
              " [-11.409477830295565, -22.59878487091024, 4.2239004039397186, -3.0134804894707687, -5.67031750183623]\n",
              " [35.260919380433094, 9.863421506751479, 4.348445446491985, -1.8107427159382146, -4.753705790919215]\n",
              " [30.39920803459053, -5.984894606929515, 5.520312808416966, 4.063376262351072, -3.884318861440823]\n",
              " [-10.150994754390013, 20.286870272937435, 2.5236203574248663, -6.876957130057089, 4.888500598338857]\n",
              " [39.74506738014384, 38.78208670307913, 6.0252282402935515, 8.6325802491628, -2.277578714119563]\n",
              " [38.92610900829072, -22.50831320720808, 5.480952015322113, 5.155654134504431, -5.332235791344906]\n",
              " [10.287871544152637, -7.801899652064662, 2.969278087315837, -7.333237146082243, 1.2762805597311475]\n",
              " [-34.33265012234125, -13.284317867393547, 5.927652514133997, 8.968932606660653, -3.3302656874786427]\n",
              " [15.558163101576326, 19.346434887634736, 3.465405522840245, -6.082090540009393, -2.0413099934116823]\n",
              " [-13.479456542701378, 6.411311105177816, 5.53746037047096, 7.569902639471467, -6.991886198867777]"
            ]
          },
          "metadata": {
            "tags": []
          },
          "execution_count": 20
        }
      ]
    },
    {
      "cell_type": "code",
      "metadata": {
        "id": "3wCxnOZUGkQi"
      },
      "source": [
        "q=[]\n",
        "q.push()"
      ],
      "execution_count": null,
      "outputs": []
    },
    {
      "cell_type": "code",
      "metadata": {
        "colab": {
          "base_uri": "https://localhost:8080/",
          "height": 253
        },
        "id": "DJFIs49ibxZl",
        "outputId": "1ce559c4-81f3-4a19-b9f3-ac31906a9da5"
      },
      "source": [
        "for i in 1:number_of_cells\n",
        "if abs(x0[i][1])>=abs(s1)\n",
        "v0[i][2]=-v0[i][2]\n",
        "end\n",
        "\n",
        "if abs(x0[i][1])>=abs(s1)\n",
        "v0[i][1]=-v0[i][1]\n",
        "end\n",
        "end\n",
        "println(x0)\n",
        "println(v0)"
      ],
      "execution_count": null,
      "outputs": [
        {
          "output_type": "error",
          "ename": "LoadError",
          "evalue": "ignored",
          "traceback": [
            "BoundsError",
            "",
            "Stacktrace:",
            " [1] getindex(x::Float64, i::Int64)",
            "   @ Base ./number.jl:96",
            " [2] top-level scope",
            "   @ ./In[103]:3",
            " [3] eval",
            "   @ ./boot.jl:360 [inlined]",
            " [4] include_string(mapexpr::typeof(REPL.softscope), mod::Module, code::String, filename::String)",
            "   @ Base ./loading.jl:1094"
          ]
        }
      ]
    },
    {
      "cell_type": "code",
      "metadata": {
        "colab": {
          "base_uri": "https://localhost:8080/"
        },
        "id": "h6JT1EQVQGMF",
        "outputId": "ffc3b7e8-99d4-43dd-c269-79e4edb0776c"
      },
      "source": [
        "using DifferentialEquations\n",
        "using LinearAlgebra\n",
        "using Plots\n",
        "\n",
        "\n",
        "N=20\n",
        "\n",
        "\n",
        "\n",
        "vektor_sistem_xy = [[rand(Uniform(-x_max, x_max)), rand(Uniform(-y_max, y_max)), rand(Uniform(0, 2*pi))] for i in (1:N)]\n",
        "for i in (1:N)\n",
        "    push!(vektor_sistem_xy[i], rand(Normal(8, 2)) * cos(vektor_sistem_xy[i][3]))\n",
        "    push!(vektor_sistem_xy[i], vektor_sistem_xy[i][4] * tan(vektor_sistem_xy[i][3]))\n",
        "end\n",
        "\n",
        "\n",
        "\n",
        "using Random, Distributions\n",
        "etta=1.0\n",
        "K_max=3.9 #mu+3sigma_K\n",
        "beta=2\n",
        "sigma_alfa=pi/3\n",
        "sigma_k=0.3 #в наноньютонах\n",
        "mu=3.0 #в наноньютонах\n",
        "\n",
        "function update_F(f)\n",
        "fx, fy, theta = f\n",
        "K=abs(rand(Normal(mu,(sigma_k)^2)))\n",
        "alfa=rand(Normal(0,(sigma_alfa)^2))*(1-(K/K_max)^beta)\n",
        "theta=theta+alfa\n",
        "f=[etta*K*sin(theta),etta*K*cos(theta), theta]\n",
        "\n",
        "end\n",
        "\n",
        "\n",
        "\n",
        "\n",
        "\n",
        "f1 = [0, 0, 0]\n",
        "f = [update_F(f1) for i in (1:N)]\n",
        "println(f)\n",
        "Fx = [f[i][1] for i in (1:N)]\n",
        "Fy = [f[i][2] for i in (1:N)]\n",
        "F_angle=[f[i][3] for i in (1:N)]\n",
        "F = [Fx Fy F_angle]\n",
        "\n",
        "function update_F_mat(F)\n",
        "    \n",
        "    mu = 3 #наноНьютоны\n",
        "    nu = 1 #коэффициент по времени взаимодействия клеток\n",
        "    sigma_K = 0.3 #наноНьютоны\n",
        "    sigma_alfa = pi/3\n",
        "    K_max = mu + 3*sigma_K\n",
        "    betta = 2.0\n",
        "    \n",
        "    for i in (1:N)\n",
        "        #fx, fy, thetta = f\n",
        "        \n",
        "        K_i = abs(rand(Normal(mu, sigma_K^2)))\n",
        "        alfa = rand(Normal(0, sigma_alfa^2))\n",
        "    \n",
        "        thetta_i = alfa * (1 - (K_i / K_max)^betta)\n",
        "        mod_f_new = K_i * nu\n",
        "    \n",
        "        F[i] = mod_f_new * cos(thetta_i + F[i+2*N])\n",
        "        F[i+N] = mod_f_new * sin(thetta_i + F[i+2*N])\n",
        "    \n",
        "        F[i+2*N] = thetta_i + F[i+2*N]\n",
        "    end\n",
        "    F\n",
        "end\n",
        "\n",
        "\n",
        "Δt = 0.001\n",
        "t_max = 100\n",
        "t = Int(div(t_max, Δt))\n",
        "\n",
        "# Masses of bodies\n",
        "m = [0.001 for i in (1:N)]\n",
        "M = sum(m)\n",
        "n = length(m)\n",
        "\n",
        "# Constant\n",
        "mu = 1.0\n",
        "\n",
        "# Initial values for position and velocity\n",
        "Rx=[vektor_sistem_xy[i][1] for i in (1:N)]\n",
        "Ry=[vektor_sistem_xy[i][2] for i in (1:N)]\n",
        "R = [Rx Ry]\n",
        "\n",
        "vx=[vektor_sistem_xy[i][4] for i in (1:N)]\n",
        "vy=[vektor_sistem_xy[i][5] for i in (1:N)]\n",
        "V = [vx, vy]\n"
      ],
      "execution_count": null,
      "outputs": [
        {
          "output_type": "stream",
          "text": [
            "[[-1.0762305143251636, 2.930836576339748, -0.35192305531952434], [-1.5305868109954428, 2.5565621728799672, -0.5394553062087839], [0.9068263072854743, 2.8012668797777356, 0.31307380996509787], [0.11322865948560594, 3.0837534153028208, 0.036701318331552144], [1.1387595275856708, 2.665424059999629, 0.40376126182079125], [2.0310075032252257, 2.3204709993339216, 0.7189752989263911], [1.6321198162583115, 2.4752587440891314, 0.5829364206023128], [1.8202290936455576, 2.4886929063042773, 0.6314902149603294], [0.9088025690939492, 2.7999229063802145, 0.3138531372254816], [-1.4181714865763104, 2.6494547408209526, -0.4914632675551193], [-0.5464367253447037, 3.0599105018736497, -0.17671650003279252], [0.21586437069098974, 3.091082148165738, 0.06972136932334189], [-0.7966818001351945, 3.023660975216105, -0.2576272869238231], [0.5991401633104949, 2.873596155474705, 0.20555357185049491], [0.6252293382058143, 3.0177712810992916, 0.2042921552656762], [2.780387905616025, 1.0706855714538572, 1.2032134923649485], [2.0834007797379535, 2.216501399940242, 0.7544537074504726], [-0.08250378802837681, 3.112351949764466, -0.026502295481848837], [2.3706257656294816, 1.9368956102044468, 0.8857512768542661], [0.8599857857415925, 2.858537166560107, 0.29223478571376826]]\n"
          ],
          "name": "stdout"
        },
        {
          "output_type": "execute_result",
          "data": {
            "text/plain": [
              "2-element Vector{Vector{Float64}}:\n",
              " [1.402176757838588, 5.744044759278476, 2.0380871775322618, 7.853995514247835, -1.7903626745281218, 0.755328336150187, 6.122093491268777, -2.5047298453968585, 2.214977769668696, -8.911988836160244, -5.10804671240315, -6.163841783263014, -8.602780475546579, -4.9134589763180045, 5.867427482287726, 5.460946368468643, -1.7268195341405466, -0.3446003437012566, -9.632152047729711, 0.9312686366785591]\n",
              " [-7.079264262126017, 2.7736747030102102, -8.782060197570164, 1.0372572398523783, 7.69926698885485, -5.792665539294024, -5.610352861822952, -9.468095536989381, 5.2523400614008935, -4.469506873186984, -3.658631503366485, -2.9534804674731463, -3.4755552735080255, -2.544699431572297, -4.4766374071574315, -4.142805144125915, -10.387780155409477, -6.186845691208078, 3.266208135516942, -8.676318185930766]"
            ]
          },
          "metadata": {
            "tags": []
          },
          "execution_count": 61
        }
      ]
    },
    {
      "cell_type": "code",
      "metadata": {
        "colab": {
          "base_uri": "https://localhost:8080/",
          "height": 1000
        },
        "id": "wwTz3D1KeYNh",
        "outputId": "6eeb18e7-840c-47a1-80a6-9dbeff9b644d"
      },
      "source": [
        "function motion(ddu,du,u,m,t) \n",
        "    for i=1:size(ddu)[1]   \n",
        "        ddu[i, :] .=f[i,1:2]./m[i] - (mu./m[i]).*du[i, :]\n",
        "    end\n",
        "end     \n",
        "tspan=(0.0, 20.0) \n",
        "\n",
        "prob = SecondOrderODEProblem(motion, V, R, tspan, m)\n",
        "integrator = init(prob,SymplecticEuler(),dt=Δt)\n",
        "\n",
        "counter=0"
      ],
      "execution_count": null,
      "outputs": [
        {
          "output_type": "error",
          "ename": "LoadError",
          "evalue": "ignored",
          "traceback": [
            "MethodError: no method matching zero(::Type{Vector{Float64}})\n\u001b[0mClosest candidates are:\n\u001b[0m  zero(\u001b[91m::Union{Type{P}, P}\u001b[39m) where P<:Dates.Period at /buildworker/worker/package_linux64/build/usr/share/julia/stdlib/v1.6/Dates/src/periods.jl:53\n\u001b[0m  zero(\u001b[91m::G\u001b[39m) where G<:LightGraphs.AbstractGraph at /root/.julia/packages/LightGraphs/IgJif/src/interface.jl:341\n\u001b[0m  zero(\u001b[91m::OffsetArrays.OffsetArray\u001b[39m) at /root/.julia/packages/OffsetArrays/8XTx1/src/OffsetArrays.jl:392\n\u001b[0m  ...",
            "",
            "Stacktrace:",
            "  [1] zero(x::Vector{Vector{Float64}})",
            "    @ Base ./abstractarray.jl:1085",
            "  [2] _broadcast_getindex_evalf",
            "    @ ./broadcast.jl:648 [inlined]",
            "  [3] _broadcast_getindex",
            "    @ ./broadcast.jl:621 [inlined]",
            "  [4] (::Base.Broadcast.var\"#19#20\"{Base.Broadcast.Broadcasted{Base.Broadcast.Style{Tuple}, Nothing, typeof(zero), Tuple{Tuple{Vector{Vector{Float64}}, Matrix{Float64}}}}})(k::Int64)",
            "    @ Base.Broadcast ./broadcast.jl:1098",
            "  [5] ntuple",
            "    @ ./ntuple.jl:49 [inlined]",
            "  [6] copy",
            "    @ ./broadcast.jl:1098 [inlined]",
            "  [7] materialize",
            "    @ ./broadcast.jl:883 [inlined]",
            "  [8] zero(A::ArrayPartition{Float64, Tuple{Vector{Vector{Float64}}, Matrix{Float64}}})",
            "    @ RecursiveArrayTools ~/.julia/packages/RecursiveArrayTools/e9IdM/src/array_partition.jl:50",
            "  [9] alg_cache(alg::SymplecticEuler, u::ArrayPartition{Float64, Tuple{Vector{Vector{Float64}}, Matrix{Float64}}}, rate_prototype::ArrayPartition{Float64, Tuple{Vector{Vector{Float64}}, Matrix{Float64}}}, #unused#::Type{Float64}, #unused#::Type{Float64}, #unused#::Type{Float64}, uprev::ArrayPartition{Float64, Tuple{Vector{Vector{Float64}}, Matrix{Float64}}}, uprev2::ArrayPartition{Float64, Tuple{Vector{Vector{Float64}}, Matrix{Float64}}}, f::DynamicalODEFunction{true, ODEFunction{true, typeof(motion), UniformScaling{Bool}, Nothing, Nothing, Nothing, Nothing, Nothing, Nothing, Nothing, Nothing, Nothing, Nothing, Nothing, Nothing, typeof(SciMLBase.DEFAULT_OBSERVED), Nothing}, ODEFunction{true, SciMLBase.var\"#225#227\", UniformScaling{Bool}, Nothing, Nothing, Nothing, Nothing, Nothing, Nothing, Nothing, Nothing, Nothing, Nothing, Nothing, Nothing, typeof(SciMLBase.DEFAULT_OBSERVED), Nothing}, UniformScaling{Bool}, Nothing, Nothing, Nothing, Nothing, Nothing, Nothing, Nothing, Nothing, Nothing, Nothing, Nothing, Nothing}, t::Float64, dt::Float64, reltol::Float64, p::Vector{Float64}, calck::Bool, #unused#::Val{true})",
            "    @ OrdinaryDiffEq ~/.julia/packages/OrdinaryDiffEq/AgIKX/src/caches/symplectic_caches.jl:10",
            " [10] __init(prob::ODEProblem{ArrayPartition{Float64, Tuple{Vector{Vector{Float64}}, Matrix{Float64}}}, Tuple{Float64, Float64}, true, Vector{Float64}, DynamicalODEFunction{true, ODEFunction{true, typeof(motion), UniformScaling{Bool}, Nothing, Nothing, Nothing, Nothing, Nothing, Nothing, Nothing, Nothing, Nothing, Nothing, Nothing, Nothing, typeof(SciMLBase.DEFAULT_OBSERVED), Nothing}, ODEFunction{true, SciMLBase.var\"#225#227\", UniformScaling{Bool}, Nothing, Nothing, Nothing, Nothing, Nothing, Nothing, Nothing, Nothing, Nothing, Nothing, Nothing, Nothing, typeof(SciMLBase.DEFAULT_OBSERVED), Nothing}, UniformScaling{Bool}, Nothing, Nothing, Nothing, Nothing, Nothing, Nothing, Nothing, Nothing, Nothing, Nothing, Nothing, Nothing}, Base.Iterators.Pairs{Union{}, Union{}, Tuple{}, NamedTuple{(), Tuple{}}}, SecondOrderODEProblem{true}}, alg::SymplecticEuler, timeseries_init::Tuple{}, ts_init::Tuple{}, ks_init::Tuple{}, recompile::Type{Val{true}}; saveat::Tuple{}, tstops::Tuple{}, d_discontinuities::Tuple{}, save_idxs::Nothing, save_everystep::Bool, save_on::Bool, save_start::Bool, save_end::Nothing, callback::Nothing, dense::Bool, calck::Bool, dt::Float64, dtmin::Nothing, dtmax::Float64, force_dtmin::Bool, adaptive::Bool, gamma::Int64, abstol::Nothing, reltol::Nothing, qmin::Int64, qmax::Int64, qsteady_min::Int64, qsteady_max::Int64, beta1::Nothing, beta2::Nothing, qoldinit::Int64, controller::Nothing, fullnormalize::Bool, failfactor::Int64, maxiters::Int64, internalnorm::typeof...",
            "    @ OrdinaryDiffEq ~/.julia/packages/OrdinaryDiffEq/AgIKX/src/solve.jl:295",
            " [11] init_call(_prob::ODEProblem{ArrayPartition{Float64, Tuple{Vector{Vector{Float64}}, Matrix{Float64}}}, Tuple{Float64, Float64}, true, Vector{Float64}, DynamicalODEFunction{true, ODEFunction{true, typeof(motion), UniformScaling{Bool}, Nothing, Nothing, Nothing, Nothing, Nothing, Nothing, Nothing, Nothing, Nothing, Nothing, Nothing, Nothing, typeof(SciMLBase.DEFAULT_OBSERVED), Nothing}, ODEFunction{true, SciMLBase.var\"#225#227\", UniformScaling{Bool}, Nothing, Nothing, Nothing, Nothing, Nothing, Nothing, Nothing, Nothing, Nothing, Nothing, Nothing, Nothing, typeof(SciMLBase.DEFAULT_OBSERVED), Nothing}, UniformScaling{Bool}, Nothing, Nothing, Nothing, Nothing, Nothing, Nothing, Nothing, Nothing, Nothing, Nothing, Nothing, Nothing}, Base.Iterators.Pairs{Union{}, Union{}, Tuple{}, NamedTuple{(), Tuple{}}}, SecondOrderODEProblem{true}}, args::SymplecticEuler; merge_callbacks::Bool, kwargs::Base.Iterators.Pairs{Symbol, Float64, Tuple{Symbol}, NamedTuple{(:dt,), Tuple{Float64}}})",
            "    @ DiffEqBase ~/.julia/packages/DiffEqBase/niZxn/src/solve.jl:28",
            " [12] init(prob::ODEProblem{ArrayPartition{Float64, Tuple{Vector{Vector{Float64}}, Matrix{Float64}}}, Tuple{Float64, Float64}, true, Vector{Float64}, DynamicalODEFunction{true, ODEFunction{true, typeof(motion), UniformScaling{Bool}, Nothing, Nothing, Nothing, Nothing, Nothing, Nothing, Nothing, Nothing, Nothing, Nothing, Nothing, Nothing, typeof(SciMLBase.DEFAULT_OBSERVED), Nothing}, ODEFunction{true, SciMLBase.var\"#225#227\", UniformScaling{Bool}, Nothing, Nothing, Nothing, Nothing, Nothing, Nothing, Nothing, Nothing, Nothing, Nothing, Nothing, Nothing, typeof(SciMLBase.DEFAULT_OBSERVED), Nothing}, UniformScaling{Bool}, Nothing, Nothing, Nothing, Nothing, Nothing, Nothing, Nothing, Nothing, Nothing, Nothing, Nothing, Nothing}, Base.Iterators.Pairs{Union{}, Union{}, Tuple{}, NamedTuple{(), Tuple{}}}, SecondOrderODEProblem{true}}, args::SymplecticEuler; kwargs::Base.Iterators.Pairs{Symbol, Float64, Tuple{Symbol}, NamedTuple{(:dt,), Tuple{Float64}}})",
            "    @ DiffEqBase ~/.julia/packages/DiffEqBase/niZxn/src/solve.jl:40",
            " [13] top-level scope",
            "    @ In[64]:9",
            " [14] eval",
            "    @ ./boot.jl:360 [inlined]",
            " [15] include_string(mapexpr::typeof(REPL.softscope), mod::Module, code::String, filename::String)",
            "    @ Base ./loading.jl:1094"
          ]
        }
      ]
    },
    {
      "cell_type": "code",
      "metadata": {
        "colab": {
          "base_uri": "https://localhost:8080/",
          "height": 1000
        },
        "id": "DNXgNKmI9F8R",
        "outputId": "1d663a17-4d4e-4077-d19d-8906279381a6"
      },
      "source": [
        "using DifferentialEquations\n",
        "using LinearAlgebra\n",
        "using Plots\n",
        "\n",
        "\n",
        "N=20\n",
        "\n",
        "\n",
        "\n",
        "vektor_sistem_xy = [[rand(Uniform(-x_max, x_max)), rand(Uniform(-y_max, y_max)), rand(Uniform(0, 2*pi))] for i in (1:N)]\n",
        "for i in (1:N)\n",
        "    push!(vektor_sistem_xy[i], rand(Normal(8, 2)) * cos(vektor_sistem_xy[i][3]))\n",
        "    push!(vektor_sistem_xy[i], vektor_sistem_xy[i][4] * tan(vektor_sistem_xy[i][3]))\n",
        "end\n",
        "\n",
        "\n",
        "\n",
        "using Random, Distributions\n",
        "etta=1.0\n",
        "K_max=3.9 #mu+3sigma_K\n",
        "beta=2\n",
        "sigma_alfa=pi/3\n",
        "sigma_k=0.3 #в наноньютонах\n",
        "mu=3.0 #в наноньютонах\n",
        "\n",
        "K=abs(rand(Normal(mu,(sigma_k)^2)))\n",
        "theta=rand(Normal(0,(sigma_alfa)^2))*(1-(K/K_max)^beta)\n",
        "f=[etta*K*sin(theta),etta*K*cos(theta), theta]\n",
        "\n",
        "\n",
        "function update_F(f)\n",
        "fx, fy, theta = f\n",
        "K=abs(rand(Normal(mu,(sigma_k)^2)))\n",
        "alfa=rand(Normal(0,(sigma_alfa)^2))*(1-(K/K_max)^beta)\n",
        "theta=theta+alfa\n",
        "f=[etta*K*sin(theta),etta*K*cos(theta), theta]\n",
        "\n",
        "end\n",
        "\n",
        "\n",
        "\n",
        "#Initial system state\n",
        "\n",
        "# Time settings\n",
        "Δt = 0.001\n",
        "t_max = 100\n",
        "t = Int(div(t_max, Δt))\n",
        "\n",
        "# Masses of bodies\n",
        "m = [0.001 for i in (1:N)]\n",
        "M = sum(m)\n",
        "n = length(m)\n",
        "\n",
        "# Constant\n",
        "mu = 1.0\n",
        "\n",
        "# Initial values for position and velocity\n",
        "Rx=[vektor_sistem_xy[i][1] for i in (1:N)]\n",
        "Ry=[vektor_sistem_xy[i][2] for i in (1:N)]\n",
        "R = [Rx Ry]\n",
        "\n",
        "vx=[vektor_sistem_xy[i][4] for i in (1:N)]\n",
        "vy=[vektor_sistem_xy[i][5] for i in (1:N)]\n",
        "V = [vx, vy]\n",
        "\n",
        "function motion(ddu,du,u,m,t) \n",
        "    for i=1:size(ddu)[2]\n",
        "        ddu[i, :] .=f./m - (mu./m[i]).*du[i, :]\n",
        "    end\n",
        "end     \n",
        "tspan=(0.0, 20.0) \n",
        "\n",
        "prob = SecondOrderODEProblem(motion, V, R, tspan, m)\n",
        "integrator = init(prob,SymplecticEuler(),dt=Δt)\n",
        "\n",
        "counter=0\n",
        "\n",
        "function animate_solver(NT)\n",
        "    for time = 1:NT\n",
        "        counter=counter+Δt\n",
        "        step!(integrator)\n",
        "        if counter==30.0\n",
        "        counter=0\n",
        "        f=update_F(f)\n",
        "        end\n",
        "        V = integrator.u[1,:]\n",
        "        R = integrator.u[2,:]\n",
        "        Rx = R[1:Int(length(R)/2)]\n",
        "        Ry = R[Int(length(R)/2)+1:length(R)]\n",
        "        Plots.scatter(Rx', Ry', xlims = (-40, 40), ylims = (-40, 40))\n",
        "        if time%10 == 0\n",
        "            frame(anim)\n",
        "        end\n",
        " \n",
        "  end\n",
        "end\n",
        "\n",
        "anim = Animation()\n",
        "\n",
        "animate_solver(1000)\n",
        "gif(anim, \"R_AAAAAA.gif\", fps = 25)\n",
        "\n",
        "\n"
      ],
      "execution_count": null,
      "outputs": [
        {
          "output_type": "error",
          "ename": "LoadError",
          "evalue": "ignored",
          "traceback": [
            "MethodError: no method matching zero(::Type{Vector{Float64}})\n\u001b[0mClosest candidates are:\n\u001b[0m  zero(\u001b[91m::Union{Type{P}, P}\u001b[39m) where P<:Dates.Period at /buildworker/worker/package_linux64/build/usr/share/julia/stdlib/v1.6/Dates/src/periods.jl:53\n\u001b[0m  zero(\u001b[91m::G\u001b[39m) where G<:LightGraphs.AbstractGraph at /root/.julia/packages/LightGraphs/IgJif/src/interface.jl:341\n\u001b[0m  zero(\u001b[91m::OffsetArrays.OffsetArray\u001b[39m) at /root/.julia/packages/OffsetArrays/8XTx1/src/OffsetArrays.jl:392\n\u001b[0m  ...",
            "",
            "Stacktrace:",
            "  [1] zero(x::Vector{Vector{Float64}})",
            "    @ Base ./abstractarray.jl:1085",
            "  [2] _broadcast_getindex_evalf",
            "    @ ./broadcast.jl:648 [inlined]",
            "  [3] _broadcast_getindex",
            "    @ ./broadcast.jl:621 [inlined]",
            "  [4] (::Base.Broadcast.var\"#19#20\"{Base.Broadcast.Broadcasted{Base.Broadcast.Style{Tuple}, Nothing, typeof(zero), Tuple{Tuple{Vector{Vector{Float64}}, Matrix{Float64}}}}})(k::Int64)",
            "    @ Base.Broadcast ./broadcast.jl:1098",
            "  [5] ntuple",
            "    @ ./ntuple.jl:49 [inlined]",
            "  [6] copy",
            "    @ ./broadcast.jl:1098 [inlined]",
            "  [7] materialize",
            "    @ ./broadcast.jl:883 [inlined]",
            "  [8] zero(A::ArrayPartition{Float64, Tuple{Vector{Vector{Float64}}, Matrix{Float64}}})",
            "    @ RecursiveArrayTools ~/.julia/packages/RecursiveArrayTools/e9IdM/src/array_partition.jl:50",
            "  [9] alg_cache(alg::SymplecticEuler, u::ArrayPartition{Float64, Tuple{Vector{Vector{Float64}}, Matrix{Float64}}}, rate_prototype::ArrayPartition{Float64, Tuple{Vector{Vector{Float64}}, Matrix{Float64}}}, #unused#::Type{Float64}, #unused#::Type{Float64}, #unused#::Type{Float64}, uprev::ArrayPartition{Float64, Tuple{Vector{Vector{Float64}}, Matrix{Float64}}}, uprev2::ArrayPartition{Float64, Tuple{Vector{Vector{Float64}}, Matrix{Float64}}}, f::DynamicalODEFunction{true, ODEFunction{true, typeof(motion), UniformScaling{Bool}, Nothing, Nothing, Nothing, Nothing, Nothing, Nothing, Nothing, Nothing, Nothing, Nothing, Nothing, Nothing, typeof(SciMLBase.DEFAULT_OBSERVED), Nothing}, ODEFunction{true, SciMLBase.var\"#225#227\", UniformScaling{Bool}, Nothing, Nothing, Nothing, Nothing, Nothing, Nothing, Nothing, Nothing, Nothing, Nothing, Nothing, Nothing, typeof(SciMLBase.DEFAULT_OBSERVED), Nothing}, UniformScaling{Bool}, Nothing, Nothing, Nothing, Nothing, Nothing, Nothing, Nothing, Nothing, Nothing, Nothing, Nothing, Nothing}, t::Float64, dt::Float64, reltol::Float64, p::Vector{Float64}, calck::Bool, #unused#::Val{true})",
            "    @ OrdinaryDiffEq ~/.julia/packages/OrdinaryDiffEq/AgIKX/src/caches/symplectic_caches.jl:10",
            " [10] __init(prob::ODEProblem{ArrayPartition{Float64, Tuple{Vector{Vector{Float64}}, Matrix{Float64}}}, Tuple{Float64, Float64}, true, Vector{Float64}, DynamicalODEFunction{true, ODEFunction{true, typeof(motion), UniformScaling{Bool}, Nothing, Nothing, Nothing, Nothing, Nothing, Nothing, Nothing, Nothing, Nothing, Nothing, Nothing, Nothing, typeof(SciMLBase.DEFAULT_OBSERVED), Nothing}, ODEFunction{true, SciMLBase.var\"#225#227\", UniformScaling{Bool}, Nothing, Nothing, Nothing, Nothing, Nothing, Nothing, Nothing, Nothing, Nothing, Nothing, Nothing, Nothing, typeof(SciMLBase.DEFAULT_OBSERVED), Nothing}, UniformScaling{Bool}, Nothing, Nothing, Nothing, Nothing, Nothing, Nothing, Nothing, Nothing, Nothing, Nothing, Nothing, Nothing}, Base.Iterators.Pairs{Union{}, Union{}, Tuple{}, NamedTuple{(), Tuple{}}}, SecondOrderODEProblem{true}}, alg::SymplecticEuler, timeseries_init::Tuple{}, ts_init::Tuple{}, ks_init::Tuple{}, recompile::Type{Val{true}}; saveat::Tuple{}, tstops::Tuple{}, d_discontinuities::Tuple{}, save_idxs::Nothing, save_everystep::Bool, save_on::Bool, save_start::Bool, save_end::Nothing, callback::Nothing, dense::Bool, calck::Bool, dt::Float64, dtmin::Nothing, dtmax::Float64, force_dtmin::Bool, adaptive::Bool, gamma::Int64, abstol::Nothing, reltol::Nothing, qmin::Int64, qmax::Int64, qsteady_min::Int64, qsteady_max::Int64, beta1::Nothing, beta2::Nothing, qoldinit::Int64, controller::Nothing, fullnormalize::Bool, failfactor::Int64, maxiters::Int64, internalnorm::typeof...",
            "    @ OrdinaryDiffEq ~/.julia/packages/OrdinaryDiffEq/AgIKX/src/solve.jl:295",
            " [11] init_call(_prob::ODEProblem{ArrayPartition{Float64, Tuple{Vector{Vector{Float64}}, Matrix{Float64}}}, Tuple{Float64, Float64}, true, Vector{Float64}, DynamicalODEFunction{true, ODEFunction{true, typeof(motion), UniformScaling{Bool}, Nothing, Nothing, Nothing, Nothing, Nothing, Nothing, Nothing, Nothing, Nothing, Nothing, Nothing, Nothing, typeof(SciMLBase.DEFAULT_OBSERVED), Nothing}, ODEFunction{true, SciMLBase.var\"#225#227\", UniformScaling{Bool}, Nothing, Nothing, Nothing, Nothing, Nothing, Nothing, Nothing, Nothing, Nothing, Nothing, Nothing, Nothing, typeof(SciMLBase.DEFAULT_OBSERVED), Nothing}, UniformScaling{Bool}, Nothing, Nothing, Nothing, Nothing, Nothing, Nothing, Nothing, Nothing, Nothing, Nothing, Nothing, Nothing}, Base.Iterators.Pairs{Union{}, Union{}, Tuple{}, NamedTuple{(), Tuple{}}}, SecondOrderODEProblem{true}}, args::SymplecticEuler; merge_callbacks::Bool, kwargs::Base.Iterators.Pairs{Symbol, Float64, Tuple{Symbol}, NamedTuple{(:dt,), Tuple{Float64}}})",
            "    @ DiffEqBase ~/.julia/packages/DiffEqBase/niZxn/src/solve.jl:28",
            " [12] init(prob::ODEProblem{ArrayPartition{Float64, Tuple{Vector{Vector{Float64}}, Matrix{Float64}}}, Tuple{Float64, Float64}, true, Vector{Float64}, DynamicalODEFunction{true, ODEFunction{true, typeof(motion), UniformScaling{Bool}, Nothing, Nothing, Nothing, Nothing, Nothing, Nothing, Nothing, Nothing, Nothing, Nothing, Nothing, Nothing, typeof(SciMLBase.DEFAULT_OBSERVED), Nothing}, ODEFunction{true, SciMLBase.var\"#225#227\", UniformScaling{Bool}, Nothing, Nothing, Nothing, Nothing, Nothing, Nothing, Nothing, Nothing, Nothing, Nothing, Nothing, Nothing, typeof(SciMLBase.DEFAULT_OBSERVED), Nothing}, UniformScaling{Bool}, Nothing, Nothing, Nothing, Nothing, Nothing, Nothing, Nothing, Nothing, Nothing, Nothing, Nothing, Nothing}, Base.Iterators.Pairs{Union{}, Union{}, Tuple{}, NamedTuple{(), Tuple{}}}, SecondOrderODEProblem{true}}, args::SymplecticEuler; kwargs::Base.Iterators.Pairs{Symbol, Float64, Tuple{Symbol}, NamedTuple{(:dt,), Tuple{Float64}}})",
            "    @ DiffEqBase ~/.julia/packages/DiffEqBase/niZxn/src/solve.jl:40",
            " [13] top-level scope",
            "    @ In[35]:74",
            " [14] eval",
            "    @ ./boot.jl:360 [inlined]",
            " [15] include_string(mapexpr::typeof(REPL.softscope), mod::Module, code::String, filename::String)",
            "    @ Base ./loading.jl:1094"
          ]
        }
      ]
    },
    {
      "cell_type": "markdown",
      "metadata": {
        "id": "rR7Ox6Ax0ypi"
      },
      "source": [
        "\n",
        "**The next three cells are for GPU benchmarking. If you are using this notebook for the first time and have GPU enabled, you can give it a try.** "
      ]
    },
    {
      "cell_type": "markdown",
      "metadata": {
        "id": "0y5TUI-Ll4cY"
      },
      "source": [
        "### Optional GPU Experiments"
      ]
    },
    {
      "cell_type": "code",
      "metadata": {
        "id": "vHKANz2J0GDW"
      },
      "source": [
        "using Pkg\n",
        "Pkg.add([\"BenchmarkTools\", \"CUDA\"])\n",
        "using BenchmarkTools, CUDA\n",
        "\n",
        "if has_cuda_gpu()\n",
        "  print(\"The GPU device is:\", CUDA.device())\n",
        "end"
      ],
      "execution_count": null,
      "outputs": []
    },
    {
      "cell_type": "code",
      "metadata": {
        "id": "q7Mbcm00lnxO"
      },
      "source": [
        "mcpu = rand(2^10, 2^10)\n",
        "@benchmark mcpu*mcpu"
      ],
      "execution_count": null,
      "outputs": []
    },
    {
      "cell_type": "code",
      "metadata": {
        "id": "RMHRbF5J-vmW"
      },
      "source": [
        "println(\"The CuArrray operation should take around 0.5 ms(excluding CUDA downloading time which is a one time process), and should be much faster. If so, the GPU is working.\")\n",
        "mgpu = cu(mcpu)\n",
        "@benchmark CUDA.@sync mgpu*mgpu"
      ],
      "execution_count": null,
      "outputs": []
    }
  ]
}